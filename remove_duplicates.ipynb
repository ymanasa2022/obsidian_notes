{
 "cells": [
  {
   "cell_type": "markdown",
   "metadata": {},
   "source": [
    "# Removing Duplicate Ligands\n",
    "Makes csv with unique compounds while assigning a unique ID for each "
   ]
  },
  {
   "cell_type": "code",
   "execution_count": 139,
   "metadata": {},
   "outputs": [],
   "source": [
    "import pandas as pd\n",
    "import numpy as np \n",
    "import uuid"
   ]
  },
  {
   "cell_type": "code",
   "execution_count": 199,
   "metadata": {},
   "outputs": [],
   "source": [
    "def remove_dupes(tsv1,tsv2):\n",
    "    '''\n",
    "        Create a new csv file with only the unique compounds from the input csvs\n",
    "        input: two tsv files that have at least the following columns: 'compound_name' and 'SMILES'\n",
    "        output: a csv file with only the unqiue compounds from both csvs along with a unique ID for each compound \n",
    "    '''\n",
    "    # reading in both tsv \n",
    "    df1 = pd.read_csv(tsv1, sep='\\t')[['compound_name', 'SMILES']]\n",
    "    df2 = pd.read_csv(tsv2, sep='\\t')[['compound_name', 'SMILES']]\n",
    "    \n",
    "    # dealing with unique SMILES\n",
    "    df1_ligs = set(df1['SMILES'])\n",
    "    df2_ligs = set(df2['SMILES'])\n",
    "\n",
    "    # differences and intersections\n",
    "    diff_df1 = df1_ligs-df2_ligs\n",
    "    diff_df2 = df2_ligs-df1_ligs\n",
    "    intersect = df2_ligs.intersection(df1_ligs)\n",
    "\n",
    "    # dataframes with compound_name and SMILES info \n",
    "    diff_df1_df = df1[df1['SMILES'].isin(diff_df1)]\n",
    "    diff_df2_df = df2[df2['SMILES'].isin(diff_df2)]\n",
    "    intersect_df = df1[df1['SMILES'].isin(intersect)]\n",
    "    \n",
    "    # only unique compounds \n",
    "    final_merged_df = pd.concat([intersect_df, diff_df1_df, diff_df2_df], ignore_index=True)\n",
    "\n",
    "    # adding unique identifiers for compound_names == NaN\n",
    "    final_merged_df['uniq_ids'] = [str(uuid.uuid4()) for i in range(len(final_merged_df))]\n",
    "    final_merged_df['compound_name'] = final_merged_df.apply(lambda row: row['uniq_ids'] if pd.isna(row['compound_name']) else row['compound_name'], axis=1)\n",
    "    final_merged_df.set_index('uniq_ids', inplace=True)\n",
    "    \n",
    "    # writing to a new csv file \n",
    "    filename = tsv1.split('.')[0]\n",
    "    final_merged_df.to_csv(f'{filename}_unique.csv')\n",
    "    "
   ]
  },
  {
   "cell_type": "code",
   "execution_count": 200,
   "metadata": {},
   "outputs": [],
   "source": [
    "remove_dupes('B3DB_meng_2021_regression.tsv', 'B3DB_meng_2021_classification.tsv')"
   ]
  },
  {
   "cell_type": "code",
   "execution_count": 214,
   "metadata": {},
   "outputs": [],
   "source": [
    "# match SMILES in each original tsv with made unqiuq id csv \n",
    "unique_ligs  = pd.read_csv('B3DB_meng_2021_regression_unique.csv')[['uniq_ids', 'SMILES']]\n",
    "regress_ligs = pd.read_csv('B3DB_meng_2021_regression.tsv', sep='\\t')\n",
    "classification_ligs = pd.read_csv('B3DB_meng_2021_classification.tsv', sep='\\t')\n",
    "\n",
    "\n",
    "regress_merged = pd.merge(unique_ligs, regress_ligs, on='SMILES')\n",
    "classification_merged = pd.merge(unique_ligs, classification_ligs, on='SMILES')\n",
    "\n",
    "classification_merged.to_csv('B3DB_classification_uniq_ids.csv')\n",
    "regress_merged.to_csv('B3DB_regression_uniq_ids.csv')"
   ]
  },
  {
   "cell_type": "markdown",
   "metadata": {},
   "source": [
    "---------------------------------------------\n",
    "### Testing below\n"
   ]
  },
  {
   "cell_type": "code",
   "execution_count": 6,
   "metadata": {},
   "outputs": [
    {
     "data": {
      "text/html": [
       "<div>\n",
       "<style scoped>\n",
       "    .dataframe tbody tr th:only-of-type {\n",
       "        vertical-align: middle;\n",
       "    }\n",
       "\n",
       "    .dataframe tbody tr th {\n",
       "        vertical-align: top;\n",
       "    }\n",
       "\n",
       "    .dataframe thead th {\n",
       "        text-align: right;\n",
       "    }\n",
       "</style>\n",
       "<table border=\"1\" class=\"dataframe\">\n",
       "  <thead>\n",
       "    <tr style=\"text-align: right;\">\n",
       "      <th></th>\n",
       "      <th>compound_name</th>\n",
       "      <th>SMILES</th>\n",
       "    </tr>\n",
       "  </thead>\n",
       "  <tbody>\n",
       "    <tr>\n",
       "      <th>0</th>\n",
       "      <td>moxalactam</td>\n",
       "      <td>CN1C(=NN=N1)SCC2=C(N3C(C(C3=O)(NC(=O)C(C4=CC=C...</td>\n",
       "    </tr>\n",
       "    <tr>\n",
       "      <th>1</th>\n",
       "      <td>schembl614298</td>\n",
       "      <td>CN1CC[C@]23[C@@H]4[C@H]1CC5=C2C(=C(C=C5)OC6[C@...</td>\n",
       "    </tr>\n",
       "    <tr>\n",
       "      <th>2</th>\n",
       "      <td>morphine-6-glucuronide</td>\n",
       "      <td>CN1CC[C@]23[C@@H]4[C@H]1CC5=C2C(=C(C=C5)O)O[C@...</td>\n",
       "    </tr>\n",
       "    <tr>\n",
       "      <th>3</th>\n",
       "      <td>2-[4-(5-bromo-3-methylpyridin-2-yl)butylamino]...</td>\n",
       "      <td>CC1=NC=C(C=C1)CC2CNC(NC2=O)NCCCCC3=NC=C(C=C3C)Br</td>\n",
       "    </tr>\n",
       "    <tr>\n",
       "      <th>4</th>\n",
       "      <td>NaN</td>\n",
       "      <td>c1(c2c3n(c4c(C(N(C)C3)=O)c(Cl)ccc4)cn2)noc(C(O...</td>\n",
       "    </tr>\n",
       "    <tr>\n",
       "      <th>...</th>\n",
       "      <td>...</td>\n",
       "      <td>...</td>\n",
       "    </tr>\n",
       "    <tr>\n",
       "      <th>1053</th>\n",
       "      <td>2qju</td>\n",
       "      <td>C[NH2+]CCCN1C2=CC=CC=C2CCC3=CC=CC=C31</td>\n",
       "    </tr>\n",
       "    <tr>\n",
       "      <th>1054</th>\n",
       "      <td>promazine</td>\n",
       "      <td>CN(C)CCCN1C2=CC=CC=C2SC3=CC=CC=C31</td>\n",
       "    </tr>\n",
       "    <tr>\n",
       "      <th>1055</th>\n",
       "      <td>diphenhydramine</td>\n",
       "      <td>CN(C)CCOC(C1=CC=CC=C1)C2=CC=CC=C2</td>\n",
       "    </tr>\n",
       "    <tr>\n",
       "      <th>1056</th>\n",
       "      <td>1225-64-5</td>\n",
       "      <td>CNCCCN1C2=CC=CC=C2SC3=C1C=C(C=C3)Cl</td>\n",
       "    </tr>\n",
       "    <tr>\n",
       "      <th>1057</th>\n",
       "      <td>sertraline</td>\n",
       "      <td>CN[C@H]1CC[C@H](C2=CC=CC=C12)C3=CC(=C(C=C3)Cl)Cl</td>\n",
       "    </tr>\n",
       "  </tbody>\n",
       "</table>\n",
       "<p>1058 rows × 2 columns</p>\n",
       "</div>"
      ],
      "text/plain": [
       "                                          compound_name  \\\n",
       "0                                            moxalactam   \n",
       "1                                         schembl614298   \n",
       "2                                morphine-6-glucuronide   \n",
       "3     2-[4-(5-bromo-3-methylpyridin-2-yl)butylamino]...   \n",
       "4                                                   NaN   \n",
       "...                                                 ...   \n",
       "1053                                               2qju   \n",
       "1054                                          promazine   \n",
       "1055                                    diphenhydramine   \n",
       "1056                                          1225-64-5   \n",
       "1057                                         sertraline   \n",
       "\n",
       "                                                 SMILES  \n",
       "0     CN1C(=NN=N1)SCC2=C(N3C(C(C3=O)(NC(=O)C(C4=CC=C...  \n",
       "1     CN1CC[C@]23[C@@H]4[C@H]1CC5=C2C(=C(C=C5)OC6[C@...  \n",
       "2     CN1CC[C@]23[C@@H]4[C@H]1CC5=C2C(=C(C=C5)O)O[C@...  \n",
       "3      CC1=NC=C(C=C1)CC2CNC(NC2=O)NCCCCC3=NC=C(C=C3C)Br  \n",
       "4     c1(c2c3n(c4c(C(N(C)C3)=O)c(Cl)ccc4)cn2)noc(C(O...  \n",
       "...                                                 ...  \n",
       "1053              C[NH2+]CCCN1C2=CC=CC=C2CCC3=CC=CC=C31  \n",
       "1054                 CN(C)CCCN1C2=CC=CC=C2SC3=CC=CC=C31  \n",
       "1055                  CN(C)CCOC(C1=CC=CC=C1)C2=CC=CC=C2  \n",
       "1056                CNCCCN1C2=CC=CC=C2SC3=C1C=C(C=C3)Cl  \n",
       "1057   CN[C@H]1CC[C@H](C2=CC=CC=C12)C3=CC(=C(C=C3)Cl)Cl  \n",
       "\n",
       "[1058 rows x 2 columns]"
      ]
     },
     "execution_count": 6,
     "metadata": {},
     "output_type": "execute_result"
    }
   ],
   "source": [
    "# smiles in regression file \n",
    "meng_reg = pd.read_csv('B3DB_meng_2021_regression.tsv', sep='\\t')[['compound_name', 'SMILES']]\n",
    "meng_reg"
   ]
  },
  {
   "cell_type": "code",
   "execution_count": 117,
   "metadata": {},
   "outputs": [
    {
     "data": {
      "text/plain": [
       "compound_name    22\n",
       "SMILES            0\n",
       "dtype: int64"
      ]
     },
     "execution_count": 117,
     "metadata": {},
     "output_type": "execute_result"
    }
   ],
   "source": [
    "# compounds that have NaN value\n",
    "meng_reg.isna().sum()"
   ]
  },
  {
   "cell_type": "code",
   "execution_count": 7,
   "metadata": {},
   "outputs": [
    {
     "data": {
      "text/html": [
       "<div>\n",
       "<style scoped>\n",
       "    .dataframe tbody tr th:only-of-type {\n",
       "        vertical-align: middle;\n",
       "    }\n",
       "\n",
       "    .dataframe tbody tr th {\n",
       "        vertical-align: top;\n",
       "    }\n",
       "\n",
       "    .dataframe thead th {\n",
       "        text-align: right;\n",
       "    }\n",
       "</style>\n",
       "<table border=\"1\" class=\"dataframe\">\n",
       "  <thead>\n",
       "    <tr style=\"text-align: right;\">\n",
       "      <th></th>\n",
       "      <th>compound_name</th>\n",
       "      <th>SMILES</th>\n",
       "    </tr>\n",
       "  </thead>\n",
       "  <tbody>\n",
       "    <tr>\n",
       "      <th>0</th>\n",
       "      <td>sulphasalazine</td>\n",
       "      <td>O=C(O)c1cc(N=Nc2ccc(S(=O)(=O)Nc3ccccn3)cc2)ccc1O</td>\n",
       "    </tr>\n",
       "    <tr>\n",
       "      <th>1</th>\n",
       "      <td>moxalactam</td>\n",
       "      <td>COC1(NC(=O)C(C(=O)O)c2ccc(O)cc2)C(=O)N2C(C(=O)...</td>\n",
       "    </tr>\n",
       "    <tr>\n",
       "      <th>2</th>\n",
       "      <td>clioquinol</td>\n",
       "      <td>Oc1c(I)cc(Cl)c2cccnc12</td>\n",
       "    </tr>\n",
       "    <tr>\n",
       "      <th>3</th>\n",
       "      <td>bbcpd11 (cimetidine analog) (y-g13)</td>\n",
       "      <td>CCNC(=NCCSCc1ncccc1Br)NC#N</td>\n",
       "    </tr>\n",
       "    <tr>\n",
       "      <th>4</th>\n",
       "      <td>schembl614298</td>\n",
       "      <td>CN1CC[C@]23c4c5ccc(OC6O[C@H](C(=O)O)[C@@H](O)[...</td>\n",
       "    </tr>\n",
       "    <tr>\n",
       "      <th>...</th>\n",
       "      <td>...</td>\n",
       "      <td>...</td>\n",
       "    </tr>\n",
       "    <tr>\n",
       "      <th>7802</th>\n",
       "      <td>antazoline</td>\n",
       "      <td>c1ccc(CN(CC2=NCCN2)c2ccccc2)cc1</td>\n",
       "    </tr>\n",
       "    <tr>\n",
       "      <th>7803</th>\n",
       "      <td>emedastine</td>\n",
       "      <td>CCOCCn1c(N2CCCN(C)CC2)nc2ccccc21</td>\n",
       "    </tr>\n",
       "    <tr>\n",
       "      <th>7804</th>\n",
       "      <td>ketotifen</td>\n",
       "      <td>CN1CCC(=C2c3ccccc3CC(=O)c3sccc32)CC1</td>\n",
       "    </tr>\n",
       "    <tr>\n",
       "      <th>7805</th>\n",
       "      <td>milrinone</td>\n",
       "      <td>Cc1[nH]c(=O)c(C#N)cc1-c1ccncc1</td>\n",
       "    </tr>\n",
       "    <tr>\n",
       "      <th>7806</th>\n",
       "      <td>amrinone</td>\n",
       "      <td>Nc1cc(-c2ccncc2)c[nH]c1=O</td>\n",
       "    </tr>\n",
       "  </tbody>\n",
       "</table>\n",
       "<p>7807 rows × 2 columns</p>\n",
       "</div>"
      ],
      "text/plain": [
       "                            compound_name  \\\n",
       "0                          sulphasalazine   \n",
       "1                              moxalactam   \n",
       "2                              clioquinol   \n",
       "3     bbcpd11 (cimetidine analog) (y-g13)   \n",
       "4                           schembl614298   \n",
       "...                                   ...   \n",
       "7802                           antazoline   \n",
       "7803                           emedastine   \n",
       "7804                            ketotifen   \n",
       "7805                            milrinone   \n",
       "7806                             amrinone   \n",
       "\n",
       "                                                 SMILES  \n",
       "0      O=C(O)c1cc(N=Nc2ccc(S(=O)(=O)Nc3ccccn3)cc2)ccc1O  \n",
       "1     COC1(NC(=O)C(C(=O)O)c2ccc(O)cc2)C(=O)N2C(C(=O)...  \n",
       "2                                Oc1c(I)cc(Cl)c2cccnc12  \n",
       "3                            CCNC(=NCCSCc1ncccc1Br)NC#N  \n",
       "4     CN1CC[C@]23c4c5ccc(OC6O[C@H](C(=O)O)[C@@H](O)[...  \n",
       "...                                                 ...  \n",
       "7802                    c1ccc(CN(CC2=NCCN2)c2ccccc2)cc1  \n",
       "7803                   CCOCCn1c(N2CCCN(C)CC2)nc2ccccc21  \n",
       "7804               CN1CCC(=C2c3ccccc3CC(=O)c3sccc32)CC1  \n",
       "7805                     Cc1[nH]c(=O)c(C#N)cc1-c1ccncc1  \n",
       "7806                          Nc1cc(-c2ccncc2)c[nH]c1=O  \n",
       "\n",
       "[7807 rows x 2 columns]"
      ]
     },
     "execution_count": 7,
     "metadata": {},
     "output_type": "execute_result"
    }
   ],
   "source": [
    "# smiles in classification file \n",
    "meng_classi = pd.read_csv('B3DB_meng_2021_classification.tsv', sep='\\t')[['compound_name', 'SMILES']]\n",
    "meng_classi"
   ]
  },
  {
   "cell_type": "code",
   "execution_count": 119,
   "metadata": {},
   "outputs": [
    {
     "data": {
      "text/plain": [
       "compound_name    1109\n",
       "SMILES              0\n",
       "dtype: int64"
      ]
     },
     "execution_count": 119,
     "metadata": {},
     "output_type": "execute_result"
    }
   ],
   "source": [
    "meng_classi.isna().sum()"
   ]
  },
  {
   "cell_type": "code",
   "execution_count": 50,
   "metadata": {},
   "outputs": [],
   "source": [
    "# finding difference between the two by SMILES\n",
    "reg_ligs = set(meng_reg['SMILES'])\n",
    "classi_ligs = set(meng_classi['SMILES'])"
   ]
  },
  {
   "cell_type": "code",
   "execution_count": 99,
   "metadata": {},
   "outputs": [
    {
     "data": {
      "text/plain": [
       "7744"
      ]
     },
     "execution_count": 99,
     "metadata": {},
     "output_type": "execute_result"
    }
   ],
   "source": [
    "# different molecules in classi_ligs\n",
    "diff_classi = classi_ligs-reg_ligs\n",
    "len(diff_classi)"
   ]
  },
  {
   "cell_type": "code",
   "execution_count": 98,
   "metadata": {},
   "outputs": [
    {
     "data": {
      "text/plain": [
       "995"
      ]
     },
     "execution_count": 98,
     "metadata": {},
     "output_type": "execute_result"
    }
   ],
   "source": [
    "# different molecules in reg_ligs\n",
    "diff_reg = reg_ligs-classi_ligs\n",
    "len(diff_reg)"
   ]
  },
  {
   "cell_type": "code",
   "execution_count": 104,
   "metadata": {},
   "outputs": [
    {
     "data": {
      "text/plain": [
       "63"
      ]
     },
     "execution_count": 104,
     "metadata": {},
     "output_type": "execute_result"
    }
   ],
   "source": [
    "# finding the intersection between the two \n",
    "intersec = classi_ligs.intersection(reg_ligs)\n",
    "len(intersec)\n",
    "# 958"
   ]
  },
  {
   "cell_type": "code",
   "execution_count": 101,
   "metadata": {},
   "outputs": [
    {
     "data": {
      "text/html": [
       "<div>\n",
       "<style scoped>\n",
       "    .dataframe tbody tr th:only-of-type {\n",
       "        vertical-align: middle;\n",
       "    }\n",
       "\n",
       "    .dataframe tbody tr th {\n",
       "        vertical-align: top;\n",
       "    }\n",
       "\n",
       "    .dataframe thead th {\n",
       "        text-align: right;\n",
       "    }\n",
       "</style>\n",
       "<table border=\"1\" class=\"dataframe\">\n",
       "  <thead>\n",
       "    <tr style=\"text-align: right;\">\n",
       "      <th></th>\n",
       "      <th>compound_name</th>\n",
       "      <th>SMILES</th>\n",
       "    </tr>\n",
       "  </thead>\n",
       "  <tbody>\n",
       "    <tr>\n",
       "      <th>0</th>\n",
       "      <td>sulphasalazine</td>\n",
       "      <td>O=C(O)c1cc(N=Nc2ccc(S(=O)(=O)Nc3ccccn3)cc2)ccc1O</td>\n",
       "    </tr>\n",
       "    <tr>\n",
       "      <th>1</th>\n",
       "      <td>moxalactam</td>\n",
       "      <td>COC1(NC(=O)C(C(=O)O)c2ccc(O)cc2)C(=O)N2C(C(=O)...</td>\n",
       "    </tr>\n",
       "    <tr>\n",
       "      <th>2</th>\n",
       "      <td>clioquinol</td>\n",
       "      <td>Oc1c(I)cc(Cl)c2cccnc12</td>\n",
       "    </tr>\n",
       "    <tr>\n",
       "      <th>3</th>\n",
       "      <td>bbcpd11 (cimetidine analog) (y-g13)</td>\n",
       "      <td>CCNC(=NCCSCc1ncccc1Br)NC#N</td>\n",
       "    </tr>\n",
       "    <tr>\n",
       "      <th>4</th>\n",
       "      <td>schembl614298</td>\n",
       "      <td>CN1CC[C@]23c4c5ccc(OC6O[C@H](C(=O)O)[C@@H](O)[...</td>\n",
       "    </tr>\n",
       "    <tr>\n",
       "      <th>...</th>\n",
       "      <td>...</td>\n",
       "      <td>...</td>\n",
       "    </tr>\n",
       "    <tr>\n",
       "      <th>7802</th>\n",
       "      <td>antazoline</td>\n",
       "      <td>c1ccc(CN(CC2=NCCN2)c2ccccc2)cc1</td>\n",
       "    </tr>\n",
       "    <tr>\n",
       "      <th>7803</th>\n",
       "      <td>emedastine</td>\n",
       "      <td>CCOCCn1c(N2CCCN(C)CC2)nc2ccccc21</td>\n",
       "    </tr>\n",
       "    <tr>\n",
       "      <th>7804</th>\n",
       "      <td>ketotifen</td>\n",
       "      <td>CN1CCC(=C2c3ccccc3CC(=O)c3sccc32)CC1</td>\n",
       "    </tr>\n",
       "    <tr>\n",
       "      <th>7805</th>\n",
       "      <td>milrinone</td>\n",
       "      <td>Cc1[nH]c(=O)c(C#N)cc1-c1ccncc1</td>\n",
       "    </tr>\n",
       "    <tr>\n",
       "      <th>7806</th>\n",
       "      <td>amrinone</td>\n",
       "      <td>Nc1cc(-c2ccncc2)c[nH]c1=O</td>\n",
       "    </tr>\n",
       "  </tbody>\n",
       "</table>\n",
       "<p>7744 rows × 2 columns</p>\n",
       "</div>"
      ],
      "text/plain": [
       "                            compound_name  \\\n",
       "0                          sulphasalazine   \n",
       "1                              moxalactam   \n",
       "2                              clioquinol   \n",
       "3     bbcpd11 (cimetidine analog) (y-g13)   \n",
       "4                           schembl614298   \n",
       "...                                   ...   \n",
       "7802                           antazoline   \n",
       "7803                           emedastine   \n",
       "7804                            ketotifen   \n",
       "7805                            milrinone   \n",
       "7806                             amrinone   \n",
       "\n",
       "                                                 SMILES  \n",
       "0      O=C(O)c1cc(N=Nc2ccc(S(=O)(=O)Nc3ccccn3)cc2)ccc1O  \n",
       "1     COC1(NC(=O)C(C(=O)O)c2ccc(O)cc2)C(=O)N2C(C(=O)...  \n",
       "2                                Oc1c(I)cc(Cl)c2cccnc12  \n",
       "3                            CCNC(=NCCSCc1ncccc1Br)NC#N  \n",
       "4     CN1CC[C@]23c4c5ccc(OC6O[C@H](C(=O)O)[C@@H](O)[...  \n",
       "...                                                 ...  \n",
       "7802                    c1ccc(CN(CC2=NCCN2)c2ccccc2)cc1  \n",
       "7803                   CCOCCn1c(N2CCCN(C)CC2)nc2ccccc21  \n",
       "7804               CN1CCC(=C2c3ccccc3CC(=O)c3sccc32)CC1  \n",
       "7805                     Cc1[nH]c(=O)c(C#N)cc1-c1ccncc1  \n",
       "7806                          Nc1cc(-c2ccncc2)c[nH]c1=O  \n",
       "\n",
       "[7744 rows x 2 columns]"
      ]
     },
     "execution_count": 101,
     "metadata": {},
     "output_type": "execute_result"
    }
   ],
   "source": [
    "diff_classi_df = meng_classi[meng_classi['SMILES'].isin(diff_classi)]\n",
    "diff_classi_df"
   ]
  },
  {
   "cell_type": "code",
   "execution_count": 103,
   "metadata": {},
   "outputs": [
    {
     "data": {
      "text/html": [
       "<div>\n",
       "<style scoped>\n",
       "    .dataframe tbody tr th:only-of-type {\n",
       "        vertical-align: middle;\n",
       "    }\n",
       "\n",
       "    .dataframe tbody tr th {\n",
       "        vertical-align: top;\n",
       "    }\n",
       "\n",
       "    .dataframe thead th {\n",
       "        text-align: right;\n",
       "    }\n",
       "</style>\n",
       "<table border=\"1\" class=\"dataframe\">\n",
       "  <thead>\n",
       "    <tr style=\"text-align: right;\">\n",
       "      <th></th>\n",
       "      <th>compound_name</th>\n",
       "      <th>SMILES</th>\n",
       "    </tr>\n",
       "  </thead>\n",
       "  <tbody>\n",
       "    <tr>\n",
       "      <th>0</th>\n",
       "      <td>moxalactam</td>\n",
       "      <td>CN1C(=NN=N1)SCC2=C(N3C(C(C3=O)(NC(=O)C(C4=CC=C...</td>\n",
       "    </tr>\n",
       "    <tr>\n",
       "      <th>1</th>\n",
       "      <td>schembl614298</td>\n",
       "      <td>CN1CC[C@]23[C@@H]4[C@H]1CC5=C2C(=C(C=C5)OC6[C@...</td>\n",
       "    </tr>\n",
       "    <tr>\n",
       "      <th>2</th>\n",
       "      <td>morphine-6-glucuronide</td>\n",
       "      <td>CN1CC[C@]23[C@@H]4[C@H]1CC5=C2C(=C(C=C5)O)O[C@...</td>\n",
       "    </tr>\n",
       "    <tr>\n",
       "      <th>3</th>\n",
       "      <td>2-[4-(5-bromo-3-methylpyridin-2-yl)butylamino]...</td>\n",
       "      <td>CC1=NC=C(C=C1)CC2CNC(NC2=O)NCCCCC3=NC=C(C=C3C)Br</td>\n",
       "    </tr>\n",
       "    <tr>\n",
       "      <th>4</th>\n",
       "      <td>NaN</td>\n",
       "      <td>c1(c2c3n(c4c(C(N(C)C3)=O)c(Cl)ccc4)cn2)noc(C(O...</td>\n",
       "    </tr>\n",
       "    <tr>\n",
       "      <th>...</th>\n",
       "      <td>...</td>\n",
       "      <td>...</td>\n",
       "    </tr>\n",
       "    <tr>\n",
       "      <th>1053</th>\n",
       "      <td>2qju</td>\n",
       "      <td>C[NH2+]CCCN1C2=CC=CC=C2CCC3=CC=CC=C31</td>\n",
       "    </tr>\n",
       "    <tr>\n",
       "      <th>1054</th>\n",
       "      <td>promazine</td>\n",
       "      <td>CN(C)CCCN1C2=CC=CC=C2SC3=CC=CC=C31</td>\n",
       "    </tr>\n",
       "    <tr>\n",
       "      <th>1055</th>\n",
       "      <td>diphenhydramine</td>\n",
       "      <td>CN(C)CCOC(C1=CC=CC=C1)C2=CC=CC=C2</td>\n",
       "    </tr>\n",
       "    <tr>\n",
       "      <th>1056</th>\n",
       "      <td>1225-64-5</td>\n",
       "      <td>CNCCCN1C2=CC=CC=C2SC3=C1C=C(C=C3)Cl</td>\n",
       "    </tr>\n",
       "    <tr>\n",
       "      <th>1057</th>\n",
       "      <td>sertraline</td>\n",
       "      <td>CN[C@H]1CC[C@H](C2=CC=CC=C12)C3=CC(=C(C=C3)Cl)Cl</td>\n",
       "    </tr>\n",
       "  </tbody>\n",
       "</table>\n",
       "<p>995 rows × 2 columns</p>\n",
       "</div>"
      ],
      "text/plain": [
       "                                          compound_name  \\\n",
       "0                                            moxalactam   \n",
       "1                                         schembl614298   \n",
       "2                                morphine-6-glucuronide   \n",
       "3     2-[4-(5-bromo-3-methylpyridin-2-yl)butylamino]...   \n",
       "4                                                   NaN   \n",
       "...                                                 ...   \n",
       "1053                                               2qju   \n",
       "1054                                          promazine   \n",
       "1055                                    diphenhydramine   \n",
       "1056                                          1225-64-5   \n",
       "1057                                         sertraline   \n",
       "\n",
       "                                                 SMILES  \n",
       "0     CN1C(=NN=N1)SCC2=C(N3C(C(C3=O)(NC(=O)C(C4=CC=C...  \n",
       "1     CN1CC[C@]23[C@@H]4[C@H]1CC5=C2C(=C(C=C5)OC6[C@...  \n",
       "2     CN1CC[C@]23[C@@H]4[C@H]1CC5=C2C(=C(C=C5)O)O[C@...  \n",
       "3      CC1=NC=C(C=C1)CC2CNC(NC2=O)NCCCCC3=NC=C(C=C3C)Br  \n",
       "4     c1(c2c3n(c4c(C(N(C)C3)=O)c(Cl)ccc4)cn2)noc(C(O...  \n",
       "...                                                 ...  \n",
       "1053              C[NH2+]CCCN1C2=CC=CC=C2CCC3=CC=CC=C31  \n",
       "1054                 CN(C)CCCN1C2=CC=CC=C2SC3=CC=CC=C31  \n",
       "1055                  CN(C)CCOC(C1=CC=CC=C1)C2=CC=CC=C2  \n",
       "1056                CNCCCN1C2=CC=CC=C2SC3=C1C=C(C=C3)Cl  \n",
       "1057   CN[C@H]1CC[C@H](C2=CC=CC=C12)C3=CC(=C(C=C3)Cl)Cl  \n",
       "\n",
       "[995 rows x 2 columns]"
      ]
     },
     "execution_count": 103,
     "metadata": {},
     "output_type": "execute_result"
    }
   ],
   "source": [
    "diff_reg_df = meng_reg[meng_reg['SMILES'].isin(diff_reg)]\n",
    "diff_reg_df"
   ]
  },
  {
   "cell_type": "code",
   "execution_count": 105,
   "metadata": {},
   "outputs": [
    {
     "data": {
      "text/html": [
       "<div>\n",
       "<style scoped>\n",
       "    .dataframe tbody tr th:only-of-type {\n",
       "        vertical-align: middle;\n",
       "    }\n",
       "\n",
       "    .dataframe tbody tr th {\n",
       "        vertical-align: top;\n",
       "    }\n",
       "\n",
       "    .dataframe thead th {\n",
       "        text-align: right;\n",
       "    }\n",
       "</style>\n",
       "<table border=\"1\" class=\"dataframe\">\n",
       "  <thead>\n",
       "    <tr style=\"text-align: right;\">\n",
       "      <th></th>\n",
       "      <th>compound_name</th>\n",
       "      <th>SMILES</th>\n",
       "    </tr>\n",
       "  </thead>\n",
       "  <tbody>\n",
       "    <tr>\n",
       "      <th>133</th>\n",
       "      <td>nitrous oxide, 99%</td>\n",
       "      <td>N#[N+]O</td>\n",
       "    </tr>\n",
       "    <tr>\n",
       "      <th>219</th>\n",
       "      <td>(-)-3-methylhexane</td>\n",
       "      <td>CCC[C@H](C)CC</td>\n",
       "    </tr>\n",
       "    <tr>\n",
       "      <th>260</th>\n",
       "      <td>telmesteine</td>\n",
       "      <td>CCOC(=O)N1CSCC1C(=O)O</td>\n",
       "    </tr>\n",
       "    <tr>\n",
       "      <th>398</th>\n",
       "      <td>s-methylisothiourea</td>\n",
       "      <td>CSC(=N)N</td>\n",
       "    </tr>\n",
       "    <tr>\n",
       "      <th>443</th>\n",
       "      <td>acrylonitrile</td>\n",
       "      <td>C=CC#N</td>\n",
       "    </tr>\n",
       "    <tr>\n",
       "      <th>...</th>\n",
       "      <td>...</td>\n",
       "      <td>...</td>\n",
       "    </tr>\n",
       "    <tr>\n",
       "      <th>1037</th>\n",
       "      <td>pentane</td>\n",
       "      <td>CCCCC</td>\n",
       "    </tr>\n",
       "    <tr>\n",
       "      <th>1038</th>\n",
       "      <td>n-hexane</td>\n",
       "      <td>CCCCCC</td>\n",
       "    </tr>\n",
       "    <tr>\n",
       "      <th>1040</th>\n",
       "      <td>2-methylheptane</td>\n",
       "      <td>CCCCCC(C)C</td>\n",
       "    </tr>\n",
       "    <tr>\n",
       "      <th>1045</th>\n",
       "      <td>cyclohexane</td>\n",
       "      <td>C1CCCCC1</td>\n",
       "    </tr>\n",
       "    <tr>\n",
       "      <th>1048</th>\n",
       "      <td>2-methyl nonane</td>\n",
       "      <td>CCCCCCC(C)C</td>\n",
       "    </tr>\n",
       "  </tbody>\n",
       "</table>\n",
       "<p>63 rows × 2 columns</p>\n",
       "</div>"
      ],
      "text/plain": [
       "            compound_name                 SMILES\n",
       "133    nitrous oxide, 99%                N#[N+]O\n",
       "219    (-)-3-methylhexane          CCC[C@H](C)CC\n",
       "260           telmesteine  CCOC(=O)N1CSCC1C(=O)O\n",
       "398   s-methylisothiourea               CSC(=N)N\n",
       "443         acrylonitrile                 C=CC#N\n",
       "...                   ...                    ...\n",
       "1037              pentane                  CCCCC\n",
       "1038             n-hexane                 CCCCCC\n",
       "1040      2-methylheptane             CCCCCC(C)C\n",
       "1045          cyclohexane               C1CCCCC1\n",
       "1048      2-methyl nonane            CCCCCCC(C)C\n",
       "\n",
       "[63 rows x 2 columns]"
      ]
     },
     "execution_count": 105,
     "metadata": {},
     "output_type": "execute_result"
    }
   ],
   "source": [
    "# doesnt matter which df we get this from \n",
    "intersect_df = meng_reg[meng_reg['SMILES'].isin(intersec)]\n",
    "intersect_df"
   ]
  },
  {
   "cell_type": "code",
   "execution_count": 181,
   "metadata": {},
   "outputs": [
    {
     "data": {
      "text/html": [
       "<div>\n",
       "<style scoped>\n",
       "    .dataframe tbody tr th:only-of-type {\n",
       "        vertical-align: middle;\n",
       "    }\n",
       "\n",
       "    .dataframe tbody tr th {\n",
       "        vertical-align: top;\n",
       "    }\n",
       "\n",
       "    .dataframe thead th {\n",
       "        text-align: right;\n",
       "    }\n",
       "</style>\n",
       "<table border=\"1\" class=\"dataframe\">\n",
       "  <thead>\n",
       "    <tr style=\"text-align: right;\">\n",
       "      <th></th>\n",
       "      <th>compound_name</th>\n",
       "      <th>SMILES</th>\n",
       "    </tr>\n",
       "  </thead>\n",
       "  <tbody>\n",
       "    <tr>\n",
       "      <th>0</th>\n",
       "      <td>nitrous oxide, 99%</td>\n",
       "      <td>N#[N+]O</td>\n",
       "    </tr>\n",
       "    <tr>\n",
       "      <th>1</th>\n",
       "      <td>(-)-3-methylhexane</td>\n",
       "      <td>CCC[C@H](C)CC</td>\n",
       "    </tr>\n",
       "    <tr>\n",
       "      <th>2</th>\n",
       "      <td>telmesteine</td>\n",
       "      <td>CCOC(=O)N1CSCC1C(=O)O</td>\n",
       "    </tr>\n",
       "    <tr>\n",
       "      <th>3</th>\n",
       "      <td>s-methylisothiourea</td>\n",
       "      <td>CSC(=N)N</td>\n",
       "    </tr>\n",
       "    <tr>\n",
       "      <th>4</th>\n",
       "      <td>acrylonitrile</td>\n",
       "      <td>C=CC#N</td>\n",
       "    </tr>\n",
       "    <tr>\n",
       "      <th>...</th>\n",
       "      <td>...</td>\n",
       "      <td>...</td>\n",
       "    </tr>\n",
       "    <tr>\n",
       "      <th>8797</th>\n",
       "      <td>antazoline</td>\n",
       "      <td>c1ccc(CN(CC2=NCCN2)c2ccccc2)cc1</td>\n",
       "    </tr>\n",
       "    <tr>\n",
       "      <th>8798</th>\n",
       "      <td>emedastine</td>\n",
       "      <td>CCOCCn1c(N2CCCN(C)CC2)nc2ccccc21</td>\n",
       "    </tr>\n",
       "    <tr>\n",
       "      <th>8799</th>\n",
       "      <td>ketotifen</td>\n",
       "      <td>CN1CCC(=C2c3ccccc3CC(=O)c3sccc32)CC1</td>\n",
       "    </tr>\n",
       "    <tr>\n",
       "      <th>8800</th>\n",
       "      <td>milrinone</td>\n",
       "      <td>Cc1[nH]c(=O)c(C#N)cc1-c1ccncc1</td>\n",
       "    </tr>\n",
       "    <tr>\n",
       "      <th>8801</th>\n",
       "      <td>amrinone</td>\n",
       "      <td>Nc1cc(-c2ccncc2)c[nH]c1=O</td>\n",
       "    </tr>\n",
       "  </tbody>\n",
       "</table>\n",
       "<p>8802 rows × 2 columns</p>\n",
       "</div>"
      ],
      "text/plain": [
       "            compound_name                                SMILES\n",
       "0      nitrous oxide, 99%                               N#[N+]O\n",
       "1      (-)-3-methylhexane                         CCC[C@H](C)CC\n",
       "2             telmesteine                 CCOC(=O)N1CSCC1C(=O)O\n",
       "3     s-methylisothiourea                              CSC(=N)N\n",
       "4           acrylonitrile                                C=CC#N\n",
       "...                   ...                                   ...\n",
       "8797           antazoline       c1ccc(CN(CC2=NCCN2)c2ccccc2)cc1\n",
       "8798           emedastine      CCOCCn1c(N2CCCN(C)CC2)nc2ccccc21\n",
       "8799            ketotifen  CN1CCC(=C2c3ccccc3CC(=O)c3sccc32)CC1\n",
       "8800            milrinone        Cc1[nH]c(=O)c(C#N)cc1-c1ccncc1\n",
       "8801             amrinone             Nc1cc(-c2ccncc2)c[nH]c1=O\n",
       "\n",
       "[8802 rows x 2 columns]"
      ]
     },
     "execution_count": 181,
     "metadata": {},
     "output_type": "execute_result"
    }
   ],
   "source": [
    "merge_meng_df = pd.concat([intersect_df, diff_reg_df, diff_classi_df], ignore_index=True)\n",
    "merge_meng_df"
   ]
  },
  {
   "cell_type": "code",
   "execution_count": 182,
   "metadata": {},
   "outputs": [
    {
     "data": {
      "text/plain": [
       "1131"
      ]
     },
     "execution_count": 182,
     "metadata": {},
     "output_type": "execute_result"
    }
   ],
   "source": [
    "merge_meng_df.isna().sum().iloc[0]"
   ]
  },
  {
   "cell_type": "code",
   "execution_count": 191,
   "metadata": {},
   "outputs": [
    {
     "data": {
      "text/html": [
       "<div>\n",
       "<style scoped>\n",
       "    .dataframe tbody tr th:only-of-type {\n",
       "        vertical-align: middle;\n",
       "    }\n",
       "\n",
       "    .dataframe tbody tr th {\n",
       "        vertical-align: top;\n",
       "    }\n",
       "\n",
       "    .dataframe thead th {\n",
       "        text-align: right;\n",
       "    }\n",
       "</style>\n",
       "<table border=\"1\" class=\"dataframe\">\n",
       "  <thead>\n",
       "    <tr style=\"text-align: right;\">\n",
       "      <th></th>\n",
       "      <th>compound_name</th>\n",
       "      <th>SMILES</th>\n",
       "    </tr>\n",
       "    <tr>\n",
       "      <th>uniq_ids</th>\n",
       "      <th></th>\n",
       "      <th></th>\n",
       "    </tr>\n",
       "  </thead>\n",
       "  <tbody>\n",
       "    <tr>\n",
       "      <th>f3d00b62-e7ce-4cf6-a534-bc076ddd6e4d</th>\n",
       "      <td>nitrous oxide, 99%</td>\n",
       "      <td>N#[N+]O</td>\n",
       "    </tr>\n",
       "    <tr>\n",
       "      <th>f66f77bd-2658-4b31-83f1-0b633aabe783</th>\n",
       "      <td>(-)-3-methylhexane</td>\n",
       "      <td>CCC[C@H](C)CC</td>\n",
       "    </tr>\n",
       "    <tr>\n",
       "      <th>a2ec11b7-f984-41e6-a629-6451d313ed42</th>\n",
       "      <td>telmesteine</td>\n",
       "      <td>CCOC(=O)N1CSCC1C(=O)O</td>\n",
       "    </tr>\n",
       "    <tr>\n",
       "      <th>3f0b7942-45ae-4d63-a2c9-442cb3223de8</th>\n",
       "      <td>s-methylisothiourea</td>\n",
       "      <td>CSC(=N)N</td>\n",
       "    </tr>\n",
       "    <tr>\n",
       "      <th>0671eb6e-35cf-4e83-a52d-fd4a3f9ec9ad</th>\n",
       "      <td>acrylonitrile</td>\n",
       "      <td>C=CC#N</td>\n",
       "    </tr>\n",
       "    <tr>\n",
       "      <th>...</th>\n",
       "      <td>...</td>\n",
       "      <td>...</td>\n",
       "    </tr>\n",
       "    <tr>\n",
       "      <th>d6077e0b-996c-4dc5-a264-d9fa535daf7c</th>\n",
       "      <td>antazoline</td>\n",
       "      <td>c1ccc(CN(CC2=NCCN2)c2ccccc2)cc1</td>\n",
       "    </tr>\n",
       "    <tr>\n",
       "      <th>56fcca80-2a0d-40b1-8c10-1538a3e6b296</th>\n",
       "      <td>emedastine</td>\n",
       "      <td>CCOCCn1c(N2CCCN(C)CC2)nc2ccccc21</td>\n",
       "    </tr>\n",
       "    <tr>\n",
       "      <th>b3288ddb-3661-46c9-a5ed-eff2a4331b29</th>\n",
       "      <td>ketotifen</td>\n",
       "      <td>CN1CCC(=C2c3ccccc3CC(=O)c3sccc32)CC1</td>\n",
       "    </tr>\n",
       "    <tr>\n",
       "      <th>fba21e20-c75c-48c5-b001-73a5db88691b</th>\n",
       "      <td>milrinone</td>\n",
       "      <td>Cc1[nH]c(=O)c(C#N)cc1-c1ccncc1</td>\n",
       "    </tr>\n",
       "    <tr>\n",
       "      <th>c62f7cd0-fbf3-41f4-a7de-8d5fd0e4335c</th>\n",
       "      <td>amrinone</td>\n",
       "      <td>Nc1cc(-c2ccncc2)c[nH]c1=O</td>\n",
       "    </tr>\n",
       "  </tbody>\n",
       "</table>\n",
       "<p>8802 rows × 2 columns</p>\n",
       "</div>"
      ],
      "text/plain": [
       "                                            compound_name  \\\n",
       "uniq_ids                                                    \n",
       "f3d00b62-e7ce-4cf6-a534-bc076ddd6e4d   nitrous oxide, 99%   \n",
       "f66f77bd-2658-4b31-83f1-0b633aabe783   (-)-3-methylhexane   \n",
       "a2ec11b7-f984-41e6-a629-6451d313ed42          telmesteine   \n",
       "3f0b7942-45ae-4d63-a2c9-442cb3223de8  s-methylisothiourea   \n",
       "0671eb6e-35cf-4e83-a52d-fd4a3f9ec9ad        acrylonitrile   \n",
       "...                                                   ...   \n",
       "d6077e0b-996c-4dc5-a264-d9fa535daf7c           antazoline   \n",
       "56fcca80-2a0d-40b1-8c10-1538a3e6b296           emedastine   \n",
       "b3288ddb-3661-46c9-a5ed-eff2a4331b29            ketotifen   \n",
       "fba21e20-c75c-48c5-b001-73a5db88691b            milrinone   \n",
       "c62f7cd0-fbf3-41f4-a7de-8d5fd0e4335c             amrinone   \n",
       "\n",
       "                                                                    SMILES  \n",
       "uniq_ids                                                                    \n",
       "f3d00b62-e7ce-4cf6-a534-bc076ddd6e4d                               N#[N+]O  \n",
       "f66f77bd-2658-4b31-83f1-0b633aabe783                         CCC[C@H](C)CC  \n",
       "a2ec11b7-f984-41e6-a629-6451d313ed42                 CCOC(=O)N1CSCC1C(=O)O  \n",
       "3f0b7942-45ae-4d63-a2c9-442cb3223de8                              CSC(=N)N  \n",
       "0671eb6e-35cf-4e83-a52d-fd4a3f9ec9ad                                C=CC#N  \n",
       "...                                                                    ...  \n",
       "d6077e0b-996c-4dc5-a264-d9fa535daf7c       c1ccc(CN(CC2=NCCN2)c2ccccc2)cc1  \n",
       "56fcca80-2a0d-40b1-8c10-1538a3e6b296      CCOCCn1c(N2CCCN(C)CC2)nc2ccccc21  \n",
       "b3288ddb-3661-46c9-a5ed-eff2a4331b29  CN1CCC(=C2c3ccccc3CC(=O)c3sccc32)CC1  \n",
       "fba21e20-c75c-48c5-b001-73a5db88691b        Cc1[nH]c(=O)c(C#N)cc1-c1ccncc1  \n",
       "c62f7cd0-fbf3-41f4-a7de-8d5fd0e4335c             Nc1cc(-c2ccncc2)c[nH]c1=O  \n",
       "\n",
       "[8802 rows x 2 columns]"
      ]
     },
     "execution_count": 191,
     "metadata": {},
     "output_type": "execute_result"
    }
   ],
   "source": [
    "# just making index a unique id col \n",
    "import uuid\n",
    "merge_meng_df['uniq_ids'] = [str(uuid.uuid4()) for i in range(len(merge_meng_df))]\n",
    "merge_meng_df['compound_name'] = merge_meng_df.apply(lambda row: row['uniq_ids'] if pd.isna(row['compound_name']) else row['compound_name'], axis=1)\n",
    "merge_meng_df.set_index('uniq_ids', inplace=True)\n",
    "merge_meng_df"
   ]
  },
  {
   "cell_type": "code",
   "execution_count": 151,
   "metadata": {},
   "outputs": [
    {
     "name": "stdout",
     "output_type": "stream",
     "text": [
      "['4ae95180-2725-437e-bb7a-63f947fc79bb', '8e432eea-8f3c-4880-956f-7eb62d52f8a3', 'ffa9a8f3-2302-428f-989b-c914a1c74a46', '4b9e7732-b231-4b49-8cd1-39e48dd2a64f', 'dab39f3c-2d4d-4468-96db-5be3469b4e92', '996b2e26-d5cb-4c78-9b52-edb220d2cded', 'dc3582b2-a523-43e7-abc9-a279e66a86af', '1c693bc9-0c1a-44a0-8abd-0cb12a06e0b4', '573e526e-6437-45e9-b22b-a9cf87e4a262', '52631ae1-3b93-4542-ab24-696cbbb3445e', '14598288-8f0c-44d8-89c1-94c0a985b2aa', '84c50b3b-0a24-435e-909e-2635274cf7bd', '8b593e2a-ba95-44c5-bfc0-7cef13143d13', 'ad190cc4-a061-4fbe-a515-372bbb34038f', '8535444d-a06e-4aba-889e-80ee98efa8b0', '9442e1a1-1052-4e77-90c5-1c280153a099', '0c8487f4-4439-447d-8088-7a1f8e34e28f', '2b00f629-55db-404c-8cda-792ba4d379b9', '8fef1c22-b0c0-46e9-805b-1e19196cd34f', '175982de-ee3d-47ff-839d-ac0b767ee6aa', '99b3798c-d4cf-46f7-9182-bbc101f5f167', '966b4671-0c5f-4bf0-8313-762e5644733c', 'b492f524-4771-41ef-b5ce-34ba53c037d9', '3b9837d6-c6f3-47f6-88d1-98783b111848', '9ce55453-7535-4805-97b3-0200a40b3659', '5a3d697c-61df-4713-8ac9-c3fda74999a4', '78db9410-479e-4819-9e12-9be8229918d6', 'eaec9f53-543f-437e-8015-99acd0126911', 'e6c885dd-71e8-41a9-af9f-662b4752054b', '7595b515-f88c-46b6-acb1-cff3e432763d', '8bcaa7fb-fc12-4dd6-82d0-b2e68295b795', 'd90fbfd6-6931-41ef-9fa1-d8db7a3cf6ea', '98eadfae-3cd2-47da-a9f9-540cdb619585', '4c366699-3d61-4b7f-bc6f-1a0e98bee723', '05962755-c2b2-49cd-a10e-3a2fa59039de', '588ad045-fb43-49da-8e1c-1c525615d891', '573fda87-0a35-43c8-801c-7acd95630aa5', 'b52a7a34-87e0-4561-bb3f-d7988e078ec2', '35720c70-5d1d-4d08-b77e-5c050c6a739f', '2e87e3db-764e-4e8f-b8d5-2d37a3459ad6', '3f73b10b-c12c-4963-9a49-b01034ad9256', '10364314-927a-40af-8f4f-1953153f9ba1', '5b7cd555-6899-484f-b9ce-361a09a77b17', '9adcc791-60e5-490b-b8aa-afba0855e443', 'bdd81d23-07d3-421f-9a02-b9c3ba01fbdf', '3f1bfb4f-e694-44b1-8ce1-09332782df97', '9e8d6dcb-18a9-41e7-84c3-9cf4b8192ea3', '5eeff005-296a-45fc-842d-0397ce6bd9d5', '5239fbb8-6260-4007-b8f2-a09332478961', '2d5dadea-377f-4a00-8ff4-3f535d3f12f8', 'dc0bf0fc-fd75-4a41-b8c7-2a908b145fe4', '9fe26bbc-358f-41d1-b047-68c768f5d3e1', '70b014c3-6cad-44ab-8f72-01c9c96f957a', 'ee2c0182-02f6-4d56-86b1-845d25f4c299', 'f1ab8831-ee15-430a-aedd-6e3ce034deca', '2fcf8153-987b-4fc8-aae2-b780211c64ea', '713188ad-eda3-4705-8f8c-dd641a86ee32', 'bc688f97-23c1-4e59-b9f4-b04cf57039ca', '27a6ca82-fb4b-4072-8067-c303900e9d2f', '34635d76-8c05-4e64-88c8-a0c14cc8c49f', '5d6b8c2b-c368-40b3-8c3b-e8e39badcdc5', 'c0e2451d-c8a2-4873-9842-866b299ca08f', 'b65f6a08-83d6-4ff3-85ba-ce8c8a840035', '7600bd51-a1d4-47c1-a3bd-f8964342aef5', 'c33182bf-c7e0-4a3b-8e15-0771fc88863c', 'e648ed8e-7419-4201-96e2-c26ce907eb17', '0d8bb8ab-7b2d-4892-b960-839ad3f8a54e', '106f4876-e864-4f2f-9894-8ae56029f712', 'bbdc55cc-9171-4620-88ba-b76ca695e22a', '25da1edc-a599-452a-93de-1030c490392f', '19b55b20-16b0-4854-89a5-79a2079bc681', 'ccae9803-b83f-4032-85fc-eddf27aeb662', 'aa3250cf-28ee-406b-b1c1-72c6fb783732', '49d62758-4c9f-474f-aff1-68dacad2178b', '237f3545-c722-4d85-8590-648abe13cba3', 'c6d61bfa-9c19-4b97-a52e-a41fe9743212', '6a70c359-c59c-40b3-8627-33e476544824', 'eed7d1ff-39da-4f93-90df-857246680fdd', '3d82dffb-2c30-49d1-b39f-780af7052972', 'dc5dc16c-fee4-43ef-b380-ca6a31deda3e', '80439895-0200-421f-b0a5-79a8c59594b7', 'eddbf3a0-82b0-4d67-a47d-8ba837d9bbe0', '304ba998-7a83-4040-85e8-cacce3148656', 'dde88ea5-6266-47af-b7eb-bac68c8d4f39', '09f9ede5-b1c7-4729-b7a0-35c34134491d', '09abf599-1e7a-4035-96ca-022512607ff7', '3f85c0c4-ab8e-464b-b11e-06273d7ccf36', '3e43cf4d-a853-46bc-a677-4e15f55708c6', '35f19f82-9ea6-4e9b-9309-74067b128c15', '0e7a2e3a-e793-456e-bf24-e121aa546aa9', '0be86227-3277-4c2f-98cd-5d5bdb84c7b3', '7c723e03-93f7-4fc5-86f7-5084cec25553', '46f2dac6-8704-419b-bbd6-86c2a7bf0265', '313f45de-f548-4a58-8f0e-fff606d5fbb1', '9cb893d6-102a-4c74-89ec-3ef957201bd1', '700913b5-250c-4fad-80c5-25cfaa3401ed', '276ff4a0-8ba0-43d7-a80e-8eca101bc78f', 'f2dd89d1-e9ee-4a50-a797-c4fc8c8beccf', 'f5dc744d-8392-49b2-a400-47117d32d563', '3f48a2ad-3e81-4f4b-bf9a-65e38a2d8bca', '3b8dc88c-c138-4a06-b5cd-a35719d0d9d2', 'deae6ab6-cb2f-4500-ab06-e6651f141798', 'fca66904-4624-4ebd-9cc1-8470db1d930d', '057127b2-d168-4c7d-a8ca-81700552a6fa', '8076d396-e5a6-4855-85a1-f7f0fe640dce', '935830b7-7c83-4f5e-9b53-ab7c6b0bf2e2', 'b93cc1de-50e2-4e80-82ae-f2d3245bf581', '9184a53d-97de-4fe4-82de-ef6938458638', '2cb48286-05e4-42b1-b704-60c1ea53db18', 'cd500834-ed0b-4416-8ca2-74764ca532c0', 'abef9d44-1ecf-4561-82fc-d2cd8c055918', '83891ba7-8bcb-431c-b36e-d8b5d1634a73', 'be55d4fd-9abd-440e-970a-c4f159362815', '1d1eb79a-d1bd-4a14-8eea-b954cde762f7', '833fe145-e0b9-4ecd-a1c8-465c2fc868ae', '0b2d6bfc-63a4-4aa4-be02-00a4d201ae38', '3233421a-0111-468f-ad7a-6a027eb1d64a', 'c947b17f-b9c8-4920-97ee-18de0da21340', 'bcc54506-caf6-415f-8499-52ba2fd813ab', '15ad73d5-3657-4c74-bcea-b2434d953f30', 'a5201800-de50-44f4-8993-7edfa5ed7f02', 'b528237e-d4f8-4052-aa5b-190d44ca73ca', '5c921886-aa65-43b7-ac74-7f787bd88c15', '6495f911-3201-473c-b8e0-0cfb0c5d0695', '982ad61d-2569-4f6e-9fd2-b8606ff45798', '490e65fc-0098-4144-bf57-cdb5ac2081e8', 'a8c03ddf-0508-415f-83d4-de06fcd37840', '7e8a8020-fa07-40bf-a2ac-86550dbd72d8', 'fe967e98-3482-40d4-9c6f-86c3c70f1ca9', 'd7e93352-b9fc-4d6b-a149-be8878ebb133', 'e1bddcfd-fb52-4ae6-a90d-eee4e3183a85', '87e7099a-56da-4b0c-bcef-1f2a51aa1d22', '49c2dd52-5918-41a3-afc1-c5d09c0bf29c', 'dadd029f-2c1e-4f4d-884b-490158b2a435', '421e0d50-cd57-4340-9f94-7ea3b5348d9c', '9c81aad2-5264-4f99-8043-0c7e35f44d32', 'c447a4eb-50e4-4d19-af11-a99dbd9efc54', '9f77fa3e-c70f-4d30-a3ab-8451b291dfa3', 'aadb6930-8250-4111-b745-efc4541bd02b', '867aecec-223f-43ef-9461-728d377f0a46', '604f33b0-c6ee-4e98-aa4a-85fb13caa906', '642a7c79-1435-44ee-a957-0e41125986e1', '3e85ffdc-b61b-4c35-ac98-fc25a9a0d19e', '7f63304d-4cbc-406d-8da9-c4ccee3fb8cb', '53e7bd90-af4f-440b-b990-25e7ed12f490', '78583300-b67f-4f69-b528-47134d594ad8', '9a51d34a-0eb8-45f6-9d88-d2b12b4fff99', 'e65481d4-301c-4fc1-a4c6-59be284dc990', '600ed8b5-2026-486e-96b2-0e29aa517776', '4c52e015-34e8-402e-b4c1-491d58d5270a', '61623c69-9af0-4361-870b-dfb8aca2c1d5', '0f20acc2-83fa-4ccc-bf44-e97687788314', '17ea4c22-6548-4e6a-bbd9-868df9307396', '01ecfccb-1b7d-4646-aad9-dfe1ec9b16c8', 'e2c449bf-bbe4-404e-8f0b-c660487ebba7', 'e5718fee-c7df-4862-abd0-eed9ccdc764c', 'd6216237-75f1-41eb-a680-125214a7d3a4', '44c5090f-77f2-4c9a-80b0-c5d25bd91ee3', '42ab052a-dcba-4487-94b3-e3e6940bf226', '34c455e2-4b31-4942-a799-c35817b8b6f0', 'a5971378-8ca8-48c8-b468-232f2fcfcc18', 'fecda5b5-eb5c-4094-a1fc-d2bb44cad8f6', 'fb0f420c-a444-4bdc-aafa-c37f1c17a588', '905469ba-dc56-4001-a9ab-315b8b2e6d9c', 'a2b5425f-10ae-4960-b020-eb2648102cbc', 'd5187621-b98e-4789-84b9-b754630bf920', '768d8ba4-91b8-4706-9e10-2e28d5e5bc3f', 'bdd797b5-09f6-495f-9516-3fb12a04447a', 'b161439a-3419-4031-9cb0-c4222395e9a8', 'c8829668-b3a0-4304-b8a5-00175b70305b', 'cba1a60d-d2ba-4981-96a9-20f0423eaa19', '4bee1e1c-7f8e-419e-b789-eb25b678ad85', 'ce59c257-ebc7-492b-b5eb-6fdf3c802ebe', '9a62ac83-b0b2-4da9-aa3c-e60b0df11b4d', 'd8d05f3f-9aeb-42fe-9fb3-9327499defa6', '6a0437f9-91d2-4eab-bb2e-400eec52e335', '7c71e8ec-d69f-4690-bb70-04ce521f291d', '29cafddf-1c66-472f-bc21-0fa0828edcfb', '6eff72d8-432f-465c-8950-e470bd26dbdd', 'c325c45e-c760-47fe-b3ce-aa2ab9aa036d', '72307b92-f16b-4070-b634-20a206398815', '21a8edf2-ee56-4c20-a36e-4d9a7be62186', '409418ff-993d-48b6-a089-2f7b7d988e3f', '76821e53-0ea0-4075-8e8a-cf3bfc8e59d9', '2f37bda0-463b-4350-867c-ba779ba860e8', '8596606b-e678-4c67-b1b7-bdfeb10a81c1', 'dbe1779c-8083-4dbd-8015-22c168e424bd', 'f408cfeb-dcae-4082-bf96-7268afe61657', '1450556b-1d4a-4c34-ab0e-6d5d3f2c8e13', '0f026613-8e6f-4e86-9f21-fc0b854ae3de', '7ee467f7-0231-42f0-b70b-e57c4d9c36c9', '3fbee50e-cb7d-4aaf-b6da-306581ba2662', 'a087ac35-5a90-4352-9c8d-434ff454189f', 'a3cddf79-f9a3-4304-a9c9-61a0facc38c2', '07b98402-5eea-43ef-91e9-3bca503d13ee', 'b70baf51-75e3-40ac-ab7d-f40edd4abd35', '39d802da-8638-489c-88c0-ee7d07e9596b', '271f9d71-5e08-4e24-9f25-472f629ef75b', '4f3e8543-dad7-466c-b7de-b36449392f71', '7b8e2034-e627-42d4-877e-011003f57793', 'aa7c1cad-96c0-4456-a6a6-65770320ff98', '8354ac37-2bfc-451e-910f-e874e8b10ac1', 'a63b0b77-d4f2-49b3-9d92-6cda8706dbbd', '2929bb5d-89f9-4407-8300-aea6c4d33ebc', 'd01e115d-e30a-4231-af4c-a2c4b3f8cab5', 'f9ed7a41-7691-4ace-bfe6-071a94c6ecca', '0635c76d-36e7-47af-9915-77577c16e41c', 'bb33ff89-582f-4366-baa9-77076e982aac', 'c8aaa77a-df32-430a-9669-f1a4a3002c7b', '59b6e66a-02ef-45e7-8f85-6d6af06bdecb', '77b2000c-f285-42b9-b51f-0b8abfbe223b', 'b66516a7-d70f-4d9f-967f-5c0b3f6d8172', '21bcae37-8527-4186-bba0-059c53951a9b', '07ed42c2-32e9-4555-93ac-e6458e977feb', '07d56fbc-f2eb-4e03-9507-8bda77b99494', '5b3b5084-729d-4a41-8ce7-fa231cdbd6e2', 'fd58e9b8-1c00-4db0-8efd-a69e21d3b1f3', 'aedd5e22-09ae-4ff1-888e-d7fa74529888', 'b5aec056-b745-46d2-9fb1-aefaf3e92568', '2223b3da-d9a7-4871-af97-01d3b026e26c', '1d322ff3-75ab-4ddb-8b60-038bff8436a5', '1bc8c20f-4570-4de3-bdd3-1e8c4c6e864d', '19def044-bdfe-487e-8586-4abfe9cbaf12', 'e31980c8-30b0-4a48-9c76-616d3fb996f8', '860e80b2-46dc-4110-91d4-6794fd5caea1', 'cecd4e8f-a39c-4147-b111-4b0b68a8d837', 'b874f8aa-b5f1-4e37-890c-6e56bd480c7f', 'e7b57cc8-f85c-4198-964f-42030b1efa8a', 'a387a6d7-5f83-4099-998f-ae7a2e5ee3d9', '14b9f4a0-9d21-44d3-a1fb-3dfaaf67842a', '020795ad-e65e-42bd-8a36-1226c83eb09e', '01791593-aab0-4460-8d80-ab95f6cfb268', 'f34796f3-e304-4ee3-9236-75e3cac23887', '9ad51a21-90ee-4949-afdd-966382ff7c11', '2f5b1017-e6ec-4a6d-9d6b-940cf714447b', 'a0bb7410-b4e7-4f0a-adb6-d89fbbc7b95c', 'fda615ca-c00a-4c68-a80a-dc637cb991e2', '5ea43f29-415e-41d3-ab06-1d1ddef27de3', '58ae347e-7689-4801-b0c8-704debcc83e6', '01dcba52-f6f9-4a0f-96c7-e0eb2d1ba8b4', '5b2805c4-fca3-4508-96c0-0fa475a05c19', '8a9b72e9-84de-4139-9382-74c39583706b', 'ad090454-4e62-4a67-8bcf-48b62dca0896', '94648f96-e395-47b1-b868-d40a5fefada1', '59acf97f-d8f4-4fe0-9f22-c2a4b0a36e98', '7ecc189f-f29e-4b4d-90c1-974e722cacdd', 'ca1cca32-00bb-4f5b-aea8-a45779cd8eca', '560aad9f-d637-4c62-b08a-7a0eb978939d', '38451b1d-7a17-4579-a9dd-c1c8a2efcfb5', '7f0b80c4-3692-4a6d-aba9-0967c3e11fc5', 'c783ed2d-c230-466a-8c3a-3df34ba0b389', '2bedfa83-86b2-448a-a853-c953a931513e', 'b885761a-ba5b-4e76-aa87-f63a367234b4', '008616ba-6633-44a4-af02-207107c7b184', 'b6ae4a90-9966-4b7d-b124-fddea3fce268', '3f6b4e2b-b375-4401-94fc-d190858150ab', 'ff93754f-d487-4ef3-813a-8adeea052d4b', '4e4248f7-27e6-4df6-a99a-8362de537c0b', '9ed34cf4-7f7a-4ca8-9cd9-1c0a4a706b87', '9cab10a6-1cdb-4ce8-983f-ecda8479b341', 'ae8491af-ccf1-4915-8314-208e37b8833c', '691e7edf-3bf2-419e-b1fa-28f356d5bf03', '423457b4-d0af-4839-9770-1cc2d7e4be5a', '86468b39-9172-4fee-8659-bf337499e8d4', '9d0fb848-bf13-43a3-a9ec-1ef24a8ad8e4', 'bfb05166-0f9b-4b6f-bd2f-4ab47b8841a8', '6514d328-57e5-4e95-adee-108244d8bebc', '977ab526-4f8d-40e3-bcdf-556993c64b3a', 'b60848e2-00a0-43c6-8f30-1b54962d5283', 'd3a8199b-fda4-4553-a273-12ea34b69536', 'cd8451d7-cd95-49ea-9578-6c686cb9a9bb', 'dc769abe-0e3b-413f-a168-ef1b1ca56ad0', 'af7a1ce1-5163-46ee-a4fc-9fdf4ad0af09', 'ca7b3c56-7e2b-416b-9b00-50928d580fd3', '313b96e6-838d-4998-997b-4bc94b4c6d2a', 'ec569fc6-9e0a-4fae-bff6-85203321bd89', 'aaa3cd5c-a02e-412d-859d-01c3d675b7df', '95325b1f-1b3f-4335-bf97-1d744556bc9d', 'ff6d8e49-8e28-4c90-99ff-1bd79987feca', '21347a68-3c1f-40f2-bb92-6eb241cb70d0', 'fa17a2b7-9168-4445-932e-c32b77ac26f3', '4135ff88-fc03-4cdf-89d6-0e1f3fad171e', '070e98ef-bc30-4a77-8b2a-c96b27a8e4b4', '83735a69-6255-4c55-ab58-c971f02783ee', 'dd36236c-8095-4eac-bddb-355511e44eef', '97df12b0-5aab-401e-acf4-91f365f17be6', '1d20902c-5c3e-46d2-9aef-6c0880ead0cf', 'f3f63b37-d852-4f66-8b62-deb77c113a16', '4fc83354-c377-4d81-9c0c-29607be2ee61', 'dde185b3-bded-4305-be59-7586b133dbf9', '174cb175-db71-4f96-9ef3-787872b33497', 'e522dac2-8a92-476e-8f41-20da9222f876', 'b9e49d75-6e67-4985-b7d0-97b356aa82a8', '3a52284b-baba-4076-8a1f-52893f8e8a37', '468fee0f-1c42-4b1b-8c69-0e00b5e3c8a5', '1545f032-3296-4dd2-b36a-51e332256b8d', 'de6c4324-457a-4c05-9b23-e6415cef3671', '115b9cef-c7be-478d-a6b7-f87f3d27f291', 'f68778ec-76fd-4642-8fd5-145f9db5822b', '0aa881c5-4ba8-44e6-9e2b-21d1e3fc1098', '8b8dc8bb-30d3-46bb-aead-51ed3941fd18', 'ce0a4e47-e3b3-48d0-b47e-ba29933f70a1', '00899c0e-56b9-4861-b10e-910513d607f4', '2fde2da5-c80b-4837-9b83-125a826b6eb1', '175505cf-6e44-4334-ba67-8be0a2a57301', 'bfd78aaf-496e-43bc-958f-a1e8aa500377', '1a9bb9ff-006e-47e9-9030-4a4f8f5e20d2', '77e30e4e-f0e9-4fee-a2a6-3e58a5ad6227', 'b242b1a0-d16a-44fb-9b15-f3c76450de6f', 'bbf21387-73dd-46ab-b887-eb604fbd865e', 'a9bdfdf5-22d1-4acf-b3cd-630b1aad81ec', 'db66137b-8576-410d-a795-740289feb220', '0925783a-fbee-478e-8237-ac293cb02f60', '3703a7cf-834c-4cc5-8387-1d0e6f72f42c', '3c3e8564-08cc-4c73-8a1c-25d6e9371217', '4095f09a-2790-4b42-84bb-9b5407cd0b86', 'bcb33142-5027-45d3-962a-2f5c2251ea17', '4759151d-85bc-4903-b15b-66ccf971682d', '2ffa5d6b-a640-4b54-b191-3642c2b24a6c', '32f0c7ea-57c6-4304-9304-129b81b09122', '0ceed939-c98e-48da-8a95-910a4c4de25e', '2cf40c4e-fb80-4714-99ec-9f6f2bd2db82', '46d2c4d3-3383-47a5-bd2d-32025aaff492', '97c5bd3b-f4d3-4113-8f38-6cba10a9796d', 'b75a6fb7-fb27-4d69-9354-953cf7e25d7f', '4e065372-72eb-4a90-ab69-28e9caf7c54c', 'a8ee8992-abcc-431c-bc77-731d1de7c68e', '6a5f21cc-840c-4fe3-831a-7891539ebaaa', '414ecb2c-980f-43b4-b6e7-66b5e62ee011', '9dca02c5-9e5f-4014-9e5c-69af4b29d57a', '12a64324-77a8-447c-bf2b-61f99cb94087', 'a168c345-1eb3-48ae-aecb-84e7f71e3649', '0ef60021-b2e5-492f-b417-e76cd46e4701', '12ae62bd-6e2a-46d3-a07c-f680ac23e970', '5cd0369f-1009-40c2-a5d4-d7907b5571f6', 'ce733990-015c-4d56-8f3e-873ea649d983', '4ac073d5-3f72-49cc-88c4-662fc55d754d', 'd5b46352-8316-45f1-9127-d4cea5ce56cb', 'bd7f85e8-5187-4730-ac2b-4dc335e3f4e7', '8479f098-2131-4f53-bf76-ab68a670d1fe', 'bddde3cb-ac19-4611-ad11-d6839eb2a0dc', 'c70b2a24-181a-4a26-8414-d0387a0f2983', '4f85f191-757d-4a46-942a-500889d06bbe', '1222060c-d388-45af-9a88-3810baee2b06', 'd1059431-7817-42ab-9a71-cacc7300e350', 'e6f87302-6d7a-4ff3-819a-761002116014', '9b314bb5-dfea-4cbc-a550-9fedc4ee5c67', '52448d74-97a1-4634-9cf9-2b17d9c60756', '09f9c995-967f-43e0-96a8-15dc0fdd9c39', 'db5a4bc2-9afe-45d4-bbcb-c55ec7ac4ddb', 'db1dd448-07de-4378-8ca4-5add7ce71bce', '3d0cb892-ba02-49b4-90cf-e7da670dbe10', 'f55f5d14-a71b-405e-95fb-642126b0d9d2', '474c3b18-479f-440f-ac9d-6884f0ce049e', 'e22bc1f2-0536-43e2-9dfd-f90024feb82d', 'c3f91f93-16ea-4509-9234-d9b3211053d5', 'fda43a82-cbac-41c1-913d-9761548aacce', 'dfd9b2d8-f532-4d08-a9e5-4efdcad97c0e', 'e6fc78b3-3666-46f8-80ed-38d165aecb79', '5b587650-87ac-4cc3-b162-15ff6972e4ed', 'c0e15f3d-fa46-4c1c-8b77-f9d440a3dd92', '18542f12-7b4d-446d-ab04-0dc2f0bcb0f6', 'b55ade31-7580-493f-884e-d53067fc9cdd', '33fcff46-dfae-4d7d-80c8-bea79f18a225', 'e2f346bd-af8c-47ad-9704-ee4c07395608', 'a5ac5eec-73c4-428a-a9c7-692c90687f50', '5bb06d7b-3dfe-478a-b06a-3be7d87c25b8', '5d71b0e6-c667-46ec-8545-9c35ea293d0b', '2f75d676-9840-4cf4-9c8b-51565954fc46', 'a1235d4f-0953-4d60-b410-94a69aa9e52e', 'fcb62dd8-46ee-4a0a-b02a-fb014361b0b6', '8a968bfb-5228-45e0-8c31-71456a21581b', '9fb675fe-a703-41c6-8019-3f0fa6841fdb', '45bab174-bbe7-4bc0-814d-088fd1991729', '43a0f5d4-ef9c-43fe-bfa7-9704635092db', 'cc2ab979-104c-48c6-8692-24f81862631b', '2c869cef-6a54-472f-bdd0-4cae23d2e1fe', 'ef179c2c-f88c-469a-881d-babe408e8fff', '4cf7303c-56fa-4e96-b73b-166890e5eadf', '3f5e905d-0f20-4faf-9119-0c5874f076f2', 'b730aaf2-312e-420b-a165-7adbf2a282cb', 'e21e3a67-3cef-4b88-8b07-0fbcccce3526', '4595a17d-174f-430b-b736-d6c7a148a7bc', 'd852b5a6-0f18-4a47-8bb6-c219a75e5920', 'bb13cc92-2597-4ffd-988f-82dbf73fe6dd', 'd7e12f37-b52a-4185-b2f3-ff73a04b3547', '3bf8cca8-1b0f-497c-ba41-65c38cd7728c', 'd7863846-68b1-486a-a882-fec09905dccb', 'c07df132-c598-437e-b639-3118915b61b5', '790dae78-6778-471e-a86d-1b0c14ccb98c', '1f7f7f36-787d-42ac-bf56-5b3379abf221', 'f4eb433e-48f2-4387-ad65-18b0e5afd2ab', '6d11b268-8276-4139-be6d-a714476ea2da', 'eaa24233-601a-4a9f-87d4-2e78e6b80bf4', '3d2be601-bd66-4e3d-906c-b84fa3d06ce4', '90db2421-d85f-4004-863a-61b52bed4955', '6e180041-3c7d-41c4-baf7-ecdf131c2c7d', '7f75922a-d326-4f18-96ac-2658f83dfc18', '0506b8e3-8ea2-4389-9ddb-239bf7fd9cc1', 'dc8cea42-837a-43f9-9058-ba6a9a2600db', 'da561676-b212-4371-8cac-4ffd21f9350e', '94e5bd8b-3c89-4eb1-9310-f0b3c7bca381', '0bb00311-a4a0-4c67-8f88-14df04bd7111', '1730d125-20b6-479c-90b1-94faf5dbe286', '5f0d8c69-6687-4209-b2b8-4aca6b868f92', '55bce6b0-027b-41fb-9ffa-71c7b7dbb30f', '9a759d08-4bb5-4d30-9260-3571a176332d', 'dc5ea201-005b-4f3f-b3e8-d346c58cc725', 'aec4da62-3eba-46a7-8fdc-6b4ad3eb3b4b', 'd37ee157-a8bf-4ab0-af21-e71bc286f362', '5708740d-24b2-4181-8da2-d3ddd1ce8aad', '7892cd67-8604-48c6-acf5-a2237340224b', '6433be33-5475-43c6-bbc8-444eaf5a570e', '61484be4-c9ee-46eb-8f86-8a8085b8c20e', 'a6420cc4-29dc-42ca-9f11-3b19f74b48f2', '853dc0d6-b94c-47f8-b3ff-f5b8825ef9d2', '19152c05-afea-41b7-abc2-595b2f69ac80', 'ecd3cbcb-a51a-47e7-ba2b-40da8b5c5b4b', '328759cb-e908-4745-8f68-e449bb2ab6cd', 'e3ad99b4-d794-4346-a500-a1ec4a3d6125', 'fe0d049d-1ff2-4555-9c96-dcc259eddaa0', '48ae27f4-17ba-479f-bb59-dcb337bc30cc', 'fd9521ce-da85-4611-8265-787e460cb89c', '5486095c-5e20-457b-b119-38d7e4545aa0', 'dc6a8b46-0309-46cd-a9df-e5fc9c37f9b8', '5b933c0c-3eb9-4323-8acf-59c5f151b8d8', '3cbe7325-a5e3-46d0-b0be-3664b6882e94', '4a615c78-e6ec-43ac-a6f3-969220447222', '2b605a7f-d5db-4210-a8c5-bc13424f21ab', 'c12b5df8-fbb0-41c0-aef4-92a13577ea5d', '55444758-613c-4c11-a98f-b89cb6a167c4', 'ea60d4ac-e1d8-4905-8c94-7acb463ea47d', '713d813c-ed2e-47fc-91b5-fc480a5cd72b', 'ec822186-db39-408a-bfc4-f2217d1c1bdd', '99b212bf-135b-4706-9ecc-0669b0d58c7f', 'a18b14f3-c9db-4a58-9e81-b9ea61baaf99', 'b71e4633-b0c1-42ac-a692-b6a81ce0772a', '4160b2c6-9439-48e1-8abe-f2e41781e1de', 'db59b646-e969-4c34-a147-b419b3dc985c', '269ae323-f86b-4625-94cf-32bd62a27011', '2a57e1cc-0945-48bf-af94-00b4f7487b06', '1ba15afd-c26c-41a9-bd95-d7fe3d817ec2', '925ebb76-0ed7-4dcb-b518-7caccde86184', '67c0c426-415f-47c3-b696-8bfe776f7ecd', '38a51f1e-2a84-4f97-b091-40714d3f1b41', 'ddd3b821-44f4-4493-b71d-8bd8a1a0417e', '0fdc8438-e84d-40af-973d-dd417c12c35d', '6bf49c7f-d587-4b51-bb30-7a8eeb03d1e5', '7ead355d-fcf4-4e18-8cee-fb8e28da43a4', '63580999-3e7f-406e-9e05-5c6d4a54e312', '309ea740-ee95-4769-badc-c90b4148deff', '03b81335-f5f0-49ca-a8c6-9b6092753693', '446a8f3e-b6cc-423f-9da7-d4b47344cc49', 'aeb94987-98ae-4743-8d3d-99a13ab94ccf', '2b04a1b9-00c3-4ce8-adc2-26a4e57d641d', '3ea15d29-5b92-4715-a985-81054aca601b', '9c4d6282-cc3a-4d8c-91d0-261bfd505440', 'd7590302-007b-4baf-b99c-1f4c3a1122e7', '96e162bf-d43e-4d1a-bf4a-9bf1978f4b83', '8f14ab9a-bada-461f-addd-8980ed98f0f4', '541d50d5-1fe0-4d2b-900c-0aab36ece5ab', 'e02a426b-d159-4118-86d3-63231e039552', '3658bf73-c050-4188-8bf9-eefbc5a841c7', 'c3422a32-812e-4968-8f88-887258cb5610', 'ac3f2ffe-6584-43a3-b678-07091d6c105d', 'c20509f4-0f00-4c73-98c0-6a968efac3ca', '0f6989b5-dcbe-4dc5-9d2a-6af624bdf2b1', '56f3627c-a42c-41dd-90f7-715211fcc8bc', '61415cff-c616-4229-8096-a52ba161ce0b', '613dc3df-9f32-4b20-837e-ff11375a7888', '76651d52-b18e-4f7f-9965-2b55e42fd672', '690852cd-9368-4e35-94ee-610c1f81433f', '90e23c6b-249b-4cee-964f-dbc9525188ef', '4e7c12e2-61a5-4546-8b32-a7eac9f96300', '8a0e9421-964a-43ab-8776-3f9aa3bd0a4c', '0a70f850-722c-41cc-8a1a-d731cc087ed4', '128fa045-be1a-45c8-957e-9acf8150a2be', 'd59334e2-a5cd-40db-aab5-821cc25e7d23', 'ebdbb239-5af9-4c2a-9061-147a8362d90c', 'f1971fea-6636-4234-a819-f552f3057f8c', '9f198978-84d4-4f23-a337-dc81c40446e0', '5c94dd97-3a41-44a7-8381-1d373ef92db0', '7e1b63f2-3523-4cd4-b997-73e41f40c1bf', '0db76ad3-9ddd-4cbb-acb1-b9637f133e73', 'f2cdd7b5-2838-48d7-a572-f36e688f6a84', '8fc6ccfa-5175-49a6-b137-6318ffe62a16', '6c6ad192-5f12-42ef-af8c-70c84987232d', '0a7e16d8-62a3-474e-a839-764f2fc46b0b', 'f6706d61-3e9e-474f-8e05-fcccfe2a7714', 'cb48477b-1584-4c01-9f1d-8e46b083631e', '00cf5a73-ee1b-4c31-af69-2ec8404d1dd2', '8ff5d3a0-4ad4-4d21-a0d5-bd50b4e3a921', 'f0e5ef7f-9582-46f0-a48e-f22a7ce750d2', 'b58f88bf-c147-4e0c-8a92-87aae781dc29', '1cf69e57-f980-4eba-9022-1d50a0b0e4fe', 'be59e9cc-1f06-4acf-bbda-864ce2f05438', '504d11ac-e6db-47dc-8d22-1a21a0887522', '59558ea5-6d74-4813-8479-22645a6e88d2', '34dd9cdd-5e3f-477d-accb-ffcbb85fdd20', '4394bf6d-348c-49cd-9e21-ffe02342230a', '8a327e51-4aa0-413f-b0dd-3019520c4907', '3e90e573-0932-4439-8797-7e4bd00ab0f6', 'b93dfa5a-832c-4aff-b543-cc1470918d21', '1b8e4bab-4a06-4f7f-9dfd-7ceb00ed7106', '8bad94da-18cc-45d3-9185-4133b69f0d93', 'f2c44409-d7c4-463b-8aaf-74815c5b5871', '7b51cbc4-72d2-440f-8070-dcb1d02eef16', '16de7cd3-6622-415e-89e8-ac94886a1ab9', '248a9995-bb32-4f64-80c9-1cedb7da5458', 'b8dbd083-8333-4015-ae87-5e671f21c7e2', '75da46fd-a990-4185-b94c-3aa7104f7043', 'a3b723e2-6073-40dd-b759-a02cb0a67085', '9f18a17b-61bd-4e9e-b119-a9a154c148c1', 'b6081a87-a25b-4bd4-a9cf-4d2f83e86e32', '452ccc6c-8447-48d4-9ac4-dc32e3e6508f', 'bb31db1a-29ec-4793-ba23-682d99edd917', 'ed1bc0e5-fc1a-4c6a-a394-12be1cac5f68', 'de49ff59-30c2-4026-a331-cb212d4ebab0', 'd689f5e4-7134-4e83-aee2-b8e2530f99a7', '49e9008d-3f25-446e-b756-feb344686648', 'b05cc5e5-70b9-40be-b3bd-40c8bf93d5b3', 'ba419a63-bf56-46c6-a6aa-ad03f7806d22', '2c219b58-c8eb-44e1-ae6a-4add81fcdc7c', '65b55d60-2a38-4d93-a977-7fa6ba3b181d', '485e8258-e64c-4acd-a4ab-84a9c0b311f2', '9b930e58-1131-4741-8ea0-5635a6f0eafe', '27124e93-6285-4ff1-9378-cddc4aa68ded', '6ad9fb6d-00be-4498-98af-12f58dcf3b37', 'a3a58516-1a7b-4a60-8d53-2b935bf55971', 'da259c87-16da-4906-aa0e-837eb118edc9', '1ca8a870-fda7-4697-af5e-425312538f91', 'b140d219-b232-473a-a680-5d5db4312d5e', '07956ae9-0a43-4c55-823b-7090f5f0a056', '41fa23de-9e08-4a95-be6f-a449045242a8', '17fea781-60db-4ce1-9ec7-bf7299e67a5f', 'c18f9ca0-5969-4b88-bb60-2eb045fb5ca4', '8ee23242-53e9-4c5b-b1a8-a67dee34469d', '37699c41-6ea6-45d5-8485-af7d8c393255', '08386932-6b1f-4806-89c2-cadcb3409579', '0530edc8-d124-4608-ba74-46bd8e323448', 'd93e5994-e484-44dd-b5cd-9760791026da', '70d3a982-4acf-410b-8b48-b3171224fdb4', '6d2ad8f5-5873-404f-8941-08ba20cec76f', 'c325daee-4d41-4d4e-9a39-e74fb9658fb8', 'ff844b8a-a93c-47de-95fc-58b3a647e612', '55e5a39e-0df7-4017-bd89-78479bcae32f', '0fa6929e-39d9-4c99-b068-7b2b78e0e05b', 'ffa28c72-9a2e-441e-b660-4b563bff0053', '3de20c07-67a5-4555-a6ae-52e4ac9eb78d', 'bf130c43-945d-451d-93dd-abc64e37e94d', '7e7ccae7-9942-4194-90d4-05cefd8d8115', '035d5bbd-65a6-4307-b58f-29b272522990', 'e205f036-c164-4345-bfb0-1e678074718a', '59bf95c0-6ca5-4084-8c4f-5c559a936329', 'b05e0655-c0ec-4465-924f-90df05ba4cb7', 'c97af4a9-b568-450e-ae71-4d622a3b15fe', '8e2af55b-6f6a-407c-8ee6-fcfc3ed1aa4d', '0014ecaa-fc10-4a18-a53d-59135118fbbf', 'd723fc71-e232-47c6-9842-b67541d98d4a', '6533c97a-f00f-42b5-9834-d835adb2cb50', '4ea01bdf-ed5c-4c6b-9f6f-ff531ebea4a6', 'bfebdb5a-e7dd-46dd-8170-215c749e8d3b', '8dfc714e-f4a9-4ad4-8446-6016405fab78', 'fc86ce47-386f-4cf0-8731-b56ed3868f60', 'c1044cdc-4964-4b65-b73b-2991dc151ffb', '592d1c04-7024-498d-95b8-1a7d14f6a4a3', '333cfbaa-9814-42ec-9308-716cdf8944aa', 'f25e9ff5-6e06-4cc0-bbf5-6c07510d910a', '8c278b01-aa58-4c04-a439-874d6de29f20', '827867f2-7df0-49b1-ac99-96ad6df7223c', '27181c6f-9a1d-4919-91e4-62c822df0775', 'f28f7a68-3f58-445a-844f-4dc31e41c632', '89dfb2da-a80b-43b9-8335-49608c539205', '7f1c6d28-3470-4dd4-8564-5a84f52a72b8', 'a9e3052f-926f-4967-b0f4-6837f5ff16ea', '00791e5a-b42a-4bbc-883e-540095c3b3ed', '17c75eea-f633-4c31-a3ba-726834337a35', '46696b51-323a-4866-a992-672eabab8187', '6b91e419-fa49-48b0-9a7f-2545e809cdf1', '35d537dc-18f7-483b-93fd-f101c838109e', 'fad77646-b592-4f60-a57c-3f9ff78a0e4c', '3105e6f5-5a3d-4e0e-8949-02a5b198d791', '5f74724d-4ee7-4bc8-a83c-56f12bb32d74', '3f071b82-9cf8-4c5b-8cee-e3695057f97e', 'f2497269-8401-4ce6-b5b1-c43c78d49960', 'cd57663e-0f58-4765-8090-12e41ed9a587', '4156239f-2175-42a0-94a0-0f3b3a285a8d', '8b024a9e-4a4c-488f-aa4a-a4f2a2a6dab6', '6b4eff07-bcca-4579-aee8-a6b97d51c8ce', 'c4e4b8f3-482e-434e-8080-4145db9512d6', 'e310df6f-bf9e-4e04-a6b2-4734295cd366', '3d2b9365-592d-467b-8d87-bba60f5ed8ba', '7e69fb4d-2cc8-4248-b792-29cc8655c2d4', '29689804-57fd-4106-94b5-73fd2bf7f6a7', 'b764ae5c-48d7-40b4-a138-0cd6b064b933', 'ca4302fa-a7fc-4b0c-b1d0-298915d6055e', 'e2f8e0d0-a170-46f2-8f84-71279a2da58e', 'f1b4ff6a-5dba-4aed-acb9-671ce9b0d1b3', 'd0328da3-7cba-4dae-808f-f342bbdd31c0', '21684ce8-3321-4631-99fb-95349f7c9a2e', 'b8134776-0aca-4ddf-a2e7-9d92543e916e', '40d478e0-b6d8-4d08-a264-2d4848f25204', 'e4edc05b-538f-4b5e-bdd4-4f162085a69e', '9a8a5e5b-9589-4a57-a5b1-11d28fc7b646', 'f8d4d044-379f-409d-8feb-5b9f967ca235', '71514ca6-5018-4a96-83f8-ae00d6ebdaca', 'f9cdfe00-02b6-4dab-911e-77bc394060e6', 'f578fbc8-e88d-4193-acf1-5f0bbb753492', '2315b87b-3625-4ed2-afa9-1aade7d5f4f5', 'db933b47-1066-49be-97f4-590c9d7d8ee9', '802dd747-4f74-4112-bf96-8669958258ee', '14666d28-018b-4388-847f-0042c89b8850', '3e8126e1-be33-4968-a47e-5d43cfdfb325', '7a75fe83-a6a6-4bdc-b3fa-a1bb0d5966af', '89f65598-b70e-4fd3-ae0d-cfd60a74ab3c', '7ce440a4-1507-48a6-896b-7e17d5370bff', 'aa636452-cb4a-48b8-b656-0b6cfc5c264b', '68823ba4-c118-49f3-a5dc-69feacc13c4b', '6c358de5-1b8f-4128-8298-e5281602a9c9', 'bda4b060-d64a-4ddf-a799-f8acf5b78b7b', '277dadf5-b9f5-45c1-92b0-f0cfb0ea3d30', '9efacd87-ee7b-424e-848a-a19b3c6a4cfb', '1b6e33c0-5e6e-42c6-acd8-793e0227df1b', '574672e1-ec57-431d-9ee0-32a004d36826', '237378f7-0e3b-48b9-a049-67e7c5e986c5', 'ec4b2d36-42ca-4eac-b094-0e2be052c39e', 'e627eb87-9169-4324-a2cf-6d7eb3ab5d8f', '5160ae17-3e6e-4630-b678-45078c482501', '7f17b20f-69a8-4318-b527-5e803f336c7f', '1ff699f9-d458-49fe-bfa5-f7f8bd1de3bb', '8667f2ab-c5e6-4147-a2a4-f9398c1f9158', 'cc75afe0-09e3-4cdf-88f2-2321a96f151b', '81ec2cb1-28ee-41f8-9307-c23df436450c', '8496e9f9-b2c6-4423-8184-bb6d22b62d89', 'a8ea26ef-e8a3-4260-ac42-dbb900da29f3', 'fc7994c5-7efd-4030-8d11-0da7d0ba2df3', '6b7e98ce-c411-4a8a-bab4-30d01ab174b2', '761dad0c-94c1-489c-a886-670a3b7182ff', '0bd435f6-6dc6-4f71-8002-490d4cc7b306', '58af8670-0f6e-4d20-bb7e-91d734a8515b', '8f1ff6f8-79a5-4f18-890c-0821a433a504', 'd3718fdb-1f3b-43b1-9d85-ae3604845009', '48d9205b-5c5d-469a-9823-b229bcd7cec5', '8575ebaf-aa49-40f9-831f-1aaff772eeb5', 'e216badc-5b44-41f9-a118-b5949239c6e8', '724dbe0a-92bf-47fb-af31-c2cd9ea5306d', '1987a31d-e750-48f3-b7da-2ae3310a0ae5', '8fa8b321-0428-4de5-9806-4a24dc05034c', 'a14239dd-984f-4258-808c-0571b999aa4c', 'e2cea9f7-0379-4458-80ad-0e8b8d2a1145', '506c2ec9-b7db-45f4-8385-0f44c524459c', '7531e077-e1db-4c88-82c6-9c8537c057fa', '8273cebf-c520-40df-ac63-121394e2abb9', '10f6c5cb-148f-4cef-94a7-e864073506f0', '92b0377e-b535-45ee-88ec-274390dd85ab', '5b9aee7f-48fa-4b7b-b3cf-6fd737b685ea', 'd784b165-1ddc-4773-aaba-9c4172324ea8', 'ca4f6063-9c25-4414-a17f-9c5ec55cc395', 'aaecc2ee-bf84-4669-a526-3d4a4826440c', '5a10c1fd-b26e-48e0-be51-feb5a595358a', '6d5d6b2f-0644-491c-ae79-ce96ff77bbfa', 'd267a2d8-4c03-4867-8b3d-e3e73913292d', '7d3a9111-46c1-417a-93db-41baf35f353f', 'd5a5cbb2-f49c-442f-b2f4-6bab7ffee00b', '8af893d9-a6d3-401a-8fb8-bcac24cbdcbc', 'dfbc6353-6a8c-4cca-b103-08c0dd3abe25', '557b92b0-19c4-47df-accb-f1b229f2bbed', 'fce0f2ad-9a07-45e9-8bb6-c9278501acce', '7759567c-7f72-430b-8215-59cbd1d224d1', '81997d28-84bd-4625-bd02-db96cb12e9f0', '7ff03d99-d11b-4beb-80c3-e11173f00665', 'e85cba21-9578-45b6-882d-969c09a4ea7a', 'c017a250-3d7d-4cfe-a4e4-c3943f3d3a0b', 'f83286fa-7a0e-4bbb-a33c-35b79c0137e8', 'a7162cd7-a014-4edf-a317-b7010a7c0725', '3c8e1c34-1517-4f1f-a2ed-9f4ec3a0b72e', '3ef18628-d414-4c23-80ae-e127ef009b5d', 'fadeee5e-f443-4699-ab93-7a0c17f66f4d', '5007abf1-f9ee-4bcf-814e-e5c86aae6eb7', '9cb7de5f-5173-4b12-8561-3e7b362813de', '224fc0be-7023-4124-ba5d-9f0ab7e258ff', '89abaafe-20d1-4142-a2b1-043da453b7a6', 'b08934d7-0bee-4262-8ac2-57f34137a8f7', '03e43442-9551-42ec-a033-1784402de7ec', '53b9cc4b-fd22-43d4-9e17-e32eaffdfea1', '04d772bb-bc1d-4662-a022-9faea5018558', '44756a9d-49e0-4f83-bb42-025dff0d995e', 'abb7b539-7064-4096-bb81-6ee892094a28', 'd049b478-5277-4e93-a848-c95d2e791768', 'bb8a8924-0eb9-47b5-9e82-0417883e9c84', '63258e35-9597-4ca5-9b80-def36d0f413c', '3994c5b0-79f1-4507-97f5-dbf8adbe1919', '9dd8b858-ef74-4541-8591-11590d315f91', '7fb57248-7ac5-42ca-a54f-92d9276a7118', 'abfed8cb-2e02-413a-bbfe-aaca1e4c8390', '31cea583-7072-4f38-bd87-ef9e95f01249', '35fd839e-1734-414c-9e92-1a066e5fa1d1', '174f36c2-9165-4cc9-ab3b-c7d3085d1ade', 'a7566f50-d250-49dc-b3f6-950b233910f6', '4e87e341-8479-4c49-b68d-80f5f51f6a14', '55a58448-41af-4d86-983d-54e7b3df13b4', 'd45c1f84-b603-431b-b935-98f797230657', '4d259a24-f30f-4e3d-96f5-74d8d0aaa536', 'b82b8d27-98cc-4c2b-ad79-409ecc54c4d6', '1860c442-b2b5-409c-bb51-2518dd358884', 'df321bd3-44e4-4bfc-be72-e2cf75837f86', 'b4cb33bb-b13d-449a-a14a-9f9f4e6a05cf', '57614673-0885-4669-8673-20f93ad6af69', '50269ebc-9ee1-4aef-b7f6-eb9f560b8ad2', '7534e698-5e9a-4dba-a27a-570ab147435d', 'ef76ffb1-6b45-44f6-9e81-a48026bd09dd', '8cf27cfc-2f99-4fe8-b890-79774057fcf2', 'd179851c-f653-44f6-9e0e-5fb27ced809b', '285849dc-79c9-4c90-8fed-fdf99a04fd9c', 'ca6f2bae-c7c6-46fa-ade6-aa7cf1f308be', '33da0bc1-cd38-49b4-8fd8-ad35f83b68ac', 'a61dc301-4a97-44aa-ae6a-c7c8bd1a5490', '1e0734d8-5e1b-4b27-ad49-a2b23c9277a1', 'd60b5f4b-7997-4a74-82ff-f497f15cdc9d', 'fba1716e-32d8-4f6a-ab03-863ee4d2dac7', '272e7ddb-47e2-44c7-b2bc-04021453375c', 'a82ed9ac-7ac7-4e46-a390-0b1a144497d8', '795da9c8-de06-48d4-938b-8f04a256eb16', '8ecba667-8c96-4eec-b2ac-72e870f60b70', 'b770e0b8-4158-43de-bc75-63bae5abe6df', 'dbdaa190-9f16-426d-8394-b8592e44aa8d', 'fa0af49d-f449-43b7-9223-999962426557', '28604917-fcb2-4de1-885e-5b0c6e297905', '3f06c0ec-afae-451c-a2cd-aeecd89b7256', 'f2645f84-3f72-4721-a9f0-08782a079451', '5513e808-2e20-42d1-9bee-531ac0bcccbe', '027eaa2d-72a9-4ca9-9aa6-23dc32e885e8', '1b7c5bdd-7161-4f40-a2cc-a298f047c583', '34bb4ced-d7d1-4bf3-bd6c-2f66b5d29b43', '80b30964-6a2c-4f0b-be60-fa8409aea5a4', '6d092995-fc61-4ec0-9d94-2e40e2191fb2', '8a69b667-3d75-4a17-85c8-383840184172', '32e47efe-fec6-46cd-8030-64e220a5315e', 'a8b3eea6-d438-4743-b6c6-07a9d1a83677', '165b9f9d-1b99-4895-a34b-aaf7adc5d2d7', '60dd7502-1789-4c55-90b6-ca6eb5d80e6b', 'e5c8e3b0-dde6-41c5-964d-45f6ab1e8a41', '5bcbd4ba-f2b2-4850-a72e-bfe0397adca8', 'd755cc4c-527e-43ec-be54-787d6905b712', '208a5abf-a657-46f0-8504-6e055afb63c5', 'b30bbf1a-e982-481c-9880-b2e97560a20e', 'b2feb710-4ab6-4064-9de6-4874c11c6c48', 'febec1be-fc6e-4f2d-b8ee-b9b787ee8a75', 'e8cb63b1-806c-457e-bd8f-5b9f8e87a4df', '98383e70-f513-4fbf-bdd2-aa93cae23fd1', 'd9dddaa3-8650-4dce-96ac-2f6b496b9a41', '1ec7cfbd-3b6e-4d20-832a-b237b687b2bd', '8bd0580b-10a1-4c67-ac58-d2dfe4214fc4', 'bd8f350c-db27-4a3c-b0e4-8da0333cf444', '3613b087-9e4b-41a3-a8ab-1a83a06c9a20', '4e99570f-58dd-4c9a-83a5-b4a653fbcc7e', '05ef4a0a-bc24-4a2b-b9aa-371c6b590a1c', '2115c37a-4bc3-43ec-9282-b5cedc6a1a3b', 'f7fcee4c-b2f5-4e2a-9612-e146540ff2b3', '7659de61-559f-40aa-b1db-a80679fee94a', '585a0d4b-5323-4801-b26d-5221531bc5fd', 'd4ec7940-fb5c-4e1f-b6dc-9df4220f16f5', 'ee0b9220-24e2-4622-a073-535697b21250', 'f3565c55-2ff9-4f3b-b4dd-aa6e6378001d', '8a9976ab-4054-4e63-8e7c-5b12d067e017', 'a22d0e18-b1d6-47d4-92ae-bb6546812992', 'a1e3e63f-6e48-4091-9539-65179ad6cab4', '85b21607-7d54-4e39-b1e5-789cf9627994', '39fb0a89-98bb-476d-886c-87e0900ce613', '5f54e96d-2177-4b2d-b7f6-c5a7a20f3f58', '2f18fbe9-6aac-48a5-8ac6-5cd0ef2ff51e', '08a85c6d-2878-4d4d-96ae-fba34a8861e8', '3040a7ec-ccb0-43f0-90dc-edaabf31b5fa', 'e25b4112-0360-425b-a35e-dcd04355e9c8', '022d9fa2-fea2-4067-9b6f-ddd40d741dad', '22655759-5448-451d-9a56-30de7bb27980', 'e78ff244-182e-4aaf-895c-f978af795663', '04b2436d-88aa-42cb-932b-6881b798d29a', '91338276-1b2c-4af1-a929-38eec45107bd', '433dbdc8-dd33-4fb0-8f29-daaed12b8348', '2e9eafcb-e990-4ece-8236-bb01407a3038', '20e1aa64-7e1a-4eac-ae3b-7585b6582149', 'fac2faa3-44ca-4eb8-a993-b53843d00687', 'b603e988-6bfe-47db-902e-47f7e39349e1', '967c0eb1-1db1-44d1-8cdf-ae291fbf6029', 'f28c6117-8ba4-46f4-99e4-2505fc13c534', 'ae29e346-5f96-4474-859e-a0e359352f34', '3d8fd525-099d-4ed0-a3db-8f5ff3318a33', '16865715-3582-4b07-8d47-5d1a63bc309e', 'b68d7ec4-3866-4253-ac58-3242806a41b7', 'e41f64d7-9423-4918-942d-8148d3055558', 'f9a18730-e868-4705-af8b-788b492e3ce5', 'f6415791-161a-4a7e-9904-e0d3b82605a5', '90566ce3-0faf-49c0-b35a-c95d983b615a', '60e0799c-718a-4538-b42f-003aa50487e4', '0c3b0a17-0239-4232-bb41-f24fa46722cd', '3e55bede-6bcb-491b-992f-eeabf68ff493', 'f92e760f-289e-4047-8893-0db6b7456e71', 'e29f2473-b19c-4aaf-b666-7d87f7ce2e0f', 'a5b515ab-861e-472a-96d6-6304bf65afdf', 'cfc375c8-d5dc-4463-96a3-6a7dc5d124ce', '39782130-75e8-445d-9bad-01b3d18852b0', 'c7a4116f-e1eb-4e50-a725-5a71055e8c3e', 'acd17bc1-e539-40b7-a19b-9e5ba8e1031a', '8021d3ad-5201-4f1f-9ef9-da800b883e9c', 'd5f9450a-a2a5-4329-9b8c-fac1dcd453b5', '02b4c648-011e-440c-9d4e-d9cbf737c2b0', 'f4f13139-2d86-496b-8cb2-7820a2a17c3a', '3a8d62b7-4e33-46b8-83e6-2b77c8ca2e3b', '9a818880-3711-4153-af78-cd606dc27f99', '2b9fe28a-0a6c-4993-b7c6-c8c85d0dec65', '14bbe924-d172-4ac1-ba4b-3a6f914c93fb', 'a14cc8d5-f907-4574-9a5b-013ae2c9db63', '1a8c47aa-29c8-4105-b73d-a054d0ad8ff0', 'fc32a560-75f5-47f1-9ead-2b903c7ecc05', '28c27735-d51a-4ae6-9175-7b0b1daafa70', '7ec5bf89-6717-47fc-9c0e-268e084079dd', 'cacbfabb-f9b1-49ef-a697-47ac9fbaa099', '884f098e-4ef0-4bef-a869-1a24a27aa118', '4cccc0fa-a016-4f57-9ad1-92dc25f2207f', '3b5fd0c3-96da-4857-96a5-0065af379d7d', '49b9206f-3ea0-4222-bbf0-79b4a28dd055', '509c41d6-0ddd-47dd-8764-cef650c467b2', '2e30b7ee-7ea6-49b3-a263-578f00dca990', '47c4f708-dc81-43a5-a319-bbb53790a167', '96286c03-0bcd-41ea-8a48-622032d26f70', '10041830-0747-4ab3-b9b9-007eedbeb25a', '768f38be-3194-4105-9f2c-d61616837c36', '78b731d9-f50e-4c6e-979c-0203611175d3', 'd8c92a93-8a57-42d5-bd45-b5419a83a0df', '0c0da8f6-90ea-46f9-9799-700bb93c9d9e', '21838328-d32c-4b1d-8dd5-0ac83f7c30c3', '9e3ddf09-8ac3-43e7-89ee-d61d6cb3e7a1', 'e99e1e53-aff6-4a3e-8086-eace01aa2255', '8003603e-b2d3-4566-b216-cbd60670680e', 'f3a8ab32-89f2-4cc5-b332-cf7f6ac0ebe7', 'a22ee537-3bfa-4374-9d64-64fc1634d20d', '7d291e5a-8cc5-4109-95b3-1ab9b4c32b07', 'dba998bf-384b-4cf0-92e7-2e93475da74c', '339556e7-93af-415d-8dce-f9e25f43ef8a', '8ba62dcc-b911-48d7-9a6f-db3126a9a1d0', '9f0d3be9-3e2b-498e-9188-f837fd11fb9f', '8ded782b-067b-49db-9568-b1025e87cc0d', 'e4ac0d83-e878-4fc2-82bf-d8f78c2b37df', 'c712a867-2329-4fd0-91b5-9dcb0a32561b', '6de5b4b0-ebf3-41d4-8c26-2bbd4d078112', '016270b0-c303-4d16-9f16-67b3f1dffd1e', 'eebb8534-7b30-46a5-a119-33fcbf2fa40e', '3b1fa70a-ae1a-43cb-8f63-92487364ffba', 'eeacf1fa-8462-4137-ac4d-52b8b7c6c485', '2be38bd4-abbb-4a93-8c53-c87399a556fe', '1c64827d-f72a-40c2-aa53-da9979a7c11c', '3e0d700b-2c5d-40ee-a7e7-7142ebf19550', '624186f2-4882-4c5c-8a3f-6ab8599aede7', '484b68e6-8c5c-4f61-a47a-7752d91a169f', '36bc165c-5256-4f68-a727-43e22a13a885', 'a6107d8c-8846-403b-bc26-380812c3a6a6', 'e5f902f9-6a96-4054-b1fe-7939e880fa4d', '6e651ec4-87c0-4fe1-91b6-f4d47083c206', 'cbb6efd1-8d6b-42cd-b923-b4bdb45b9abf', 'eea9bf02-fd44-4880-8354-308d806e0d12', 'e51421d7-4f8a-4d1e-9c51-87380095cb9f', 'aa68d39c-3cfb-4eb3-a49a-6665123b561a', '5ed926c0-f745-476a-a441-7a819f24eec0', 'e69b703f-2620-4417-b8f7-27134aef8e06', '021a6df7-de5c-4efc-9ff0-459a8a287847', '04127b8a-88c5-4d2c-ae43-d9cfda6ab23b', 'a9521526-a101-4f47-8403-c2ae72927044', 'd97f1bdb-d0da-4921-957d-25edf382796b', 'a8270172-330c-4dba-a55a-ff8243806782', '88f80722-ca83-476c-9a8d-9116ba44048a', '189b4ef7-70cc-40a4-91aa-11c499855885', 'e217057a-4b5e-4ba7-9fa5-eb0ea3225a8e', '8fa89dd8-0663-4adf-b2e7-5ef391c26cc4', 'c47d3b04-e3d9-4f62-80e9-605b608d39a8', '114030df-4efb-434f-9e0c-eca5cc29c535', 'cca693b4-4205-49d8-ae58-74d37a10748d', '41bc60d9-400d-4faf-8b44-89607e6e8a88', 'e32f0318-c5ac-4d4f-891f-1dcb5f86381d', '069d7ec1-4d2d-48f2-8c44-9a6d0dccafba', '25dad81f-9410-4832-97e9-ff4f34d5e790', '142ee6dd-0c9d-4923-8cb1-a5c417f9e54f', 'a48c83e3-e0ef-447f-b911-ee499ada5283', 'a290ad5e-df93-4812-890b-b6e7652f0361', 'cb0f05fe-2131-4a7c-87e8-7901a53d9287', 'af0ffc55-9d8a-4591-981f-3c6d3c820a9c', 'c7d8b1bf-ebe5-41e2-83d0-38c9d4f3c132', 'd5a0cc95-43af-49d6-a851-1e9226041a29', '22acfac9-0265-4f8a-a20f-a6edb2fa64f9', '99c3511d-3be5-4291-afab-6f0bdacc6d72', '98ac351e-599f-4fef-9f67-1f837e4f9b35', '7aeca6f3-a6e6-445b-aeda-78d2b3157033', '64ab0dd7-cabf-4ce5-9c89-9f936834c2ee', '9b923698-a8c5-44d0-b207-a0d868c93afa', '6a36f36c-5ce5-4783-b307-e09ab7967d58', 'e7463de0-dd40-475a-801b-197ec40bf79b', '759ad600-83e0-47ef-a0d8-8d4e11423d08', '4b7d219c-057a-452f-a819-ed64b6f9e526', '18b28333-4032-4695-8682-374cea9f9de6', 'a786fa91-c4ea-492c-b4b7-7e01c15928a7', '61b67f43-ef26-4eed-bf38-e9776b7b5a32', 'e0285ecf-c047-4c98-b332-d10703bb28df', 'f40d1b86-1c29-4070-8b3b-999be5c772e4', '6aa23751-163b-4b9e-98d8-008bdc5709c4', '36cb77cd-cbda-4b84-9063-df2980fc6852', '17c1a287-d697-4e39-9b35-3163612707e2', '2440dea5-56c4-4ff1-8db5-ec04357dbb22', '86b9d97b-fb46-4010-aae1-202d6455f3fd', '0997bb4d-a296-42f5-97be-3849b3725085', 'f73f6cb2-2b72-43a2-876c-a19e7c567b84', '2e385808-5170-4dc0-b772-359d91c60845', '5ca91f02-0bf6-4a3c-82be-0f2397dbdf4f', '8ae459e0-0b8d-4a4b-9041-6e41e2e87f30', '6fdc3219-f265-4088-8586-2ade18266d19', '2c040663-7439-4625-abd8-6c237072f410', '8692f438-b331-4899-a036-9b099b2bb047', '111d66b9-662e-4122-860a-709275f7b5dc', '991571a2-6afa-4b06-ac2f-bfff96ccc66b', '46b712dc-a937-4899-b21c-9f6f3f0c3639', '9825ff1f-4b48-47a7-8e94-6847c2363f1e', 'f91589cb-debe-4a6d-887e-f9d925a4151d', 'd39e0f6c-dc7b-49ec-b72d-995cdc36f2de', '78757118-d34c-4c21-88a0-2787d0b7c39f', 'c1db4c17-4ed0-4860-af63-50efba44e6d7', '6ebf562f-4783-4a53-99c2-67b44f3038d7', '69ac1ca3-74f6-4cda-8f31-5ecef08411fe', 'f8acb11a-e9e2-4a66-b480-6b490cbe6db0', 'f96d589e-3195-40a4-a654-4b052db3cac5', '02fa4c37-412e-4280-972d-b92bb52bc64d', '63ca4434-d89a-4570-aa0f-8510c56d8343', 'fe627f3e-f8b8-4246-8916-e8a7d899d5f5', '1a243fc3-a848-49ef-9c9b-c171763a5c1e', '5138a515-3a5a-4643-a9f1-c8bf1832991d', '3ccdaa6c-12d4-4039-9df9-8dcd35f092ca', 'dd94f226-04cd-4fd3-b6fd-1b69698bc1ba', '8f190f99-40fb-4963-849b-9d87b5e70c34', 'f4b9dbc8-799e-4090-8c05-fd4cd1ae578c', '404bf34d-a73b-43aa-b4f2-0e7ef7881631', '17e9d46a-3ec9-4d51-8090-fccb30fb8d44', 'aa9762e9-4877-41b1-ae20-c708c8f3de5b', 'd48b193f-956e-4ef3-9d6e-d4588c3e84fe', '20f6fa62-3645-4044-9944-00a2d799a204', '10565de8-8875-47f7-8c86-8ffd071f3a55', 'be9eca9d-30c3-44cf-9cd5-efe1aa7c0067', '858d25f0-8e3a-4d55-9016-c19d080c1cf1', '456e7d4e-9f20-4bd7-8a8e-f80c63b07bcd', '347531f8-6f34-40b6-8676-b39277e3fc78', '46341a9d-2709-4c40-a3b2-f80821e409e0', '5953a267-7609-4b7d-b9e3-27a82cf5a418', 'd66ef64a-12cd-4332-8adc-c79ba2e9e16f', '2ddd17b8-de30-4c31-a707-fe2e0b52909f', '3805f04d-1c8f-4f4a-9e26-6228f2f9fbd5', 'bc0be88a-cae7-487b-ab5c-fb33a95f8b06', '02aa1cc5-98f6-4b26-808b-efb93106d2d8', '6d2fbaae-490f-4a90-83ca-8a5cb02fb591', '558e7a20-fde8-4a15-a25d-bbf264c5c76e', '0501f7db-ef04-4d55-a77c-5275093bf804', '53753669-61f0-4584-b1c1-d345e74902ec', 'a385e6f0-8868-49c8-889a-fe9d82fdb0b8', '14ced787-517c-472d-830c-a6dd8b6b6efd', '0250da26-fa29-48c7-a6e5-b4d88b7f5892', '17a779d3-860b-4ec9-9f18-023392a78c8d', '1a188f26-ec0d-4f69-88cd-021a9f6e6143', '8c077419-d684-4223-840e-da3bddb0f8d0', '1b40a573-4e9f-40ff-9dca-a51caf654bfe', 'be76267f-f600-4aa8-a2e8-68a96f502738', '100e3891-db19-4bf8-b659-22c209eed943', 'a760d734-c9d7-4417-8a0d-1961f2d988e7', 'eac76141-858d-4a4e-8bf1-220587e7f52b', '5aafce2a-176c-4d87-884f-64e1644bdbc3', '0e16a3f1-f158-4e52-a16c-182d973e9ba3', '0a3b0e83-363b-4a4c-9c33-9d87ace53588', '86a8f299-bac4-4678-8b18-a2a590ae48aa', '056d8f27-8549-4bce-9e3e-5afe97cafc77', '75cec17c-8acc-4ce0-8e1a-f9e6e36b4f95', '22c77019-5bda-4cba-9d07-f3821bb96fd1', '1bdde8ec-9562-415c-8e39-9583bb956997', '43b2d1db-3a42-4f76-88d7-ea58ae907def', '1ae85463-1a76-4e63-ac86-d3614408d4fa', '66115746-a928-461e-b02b-be52f11b5fac', 'e3a22776-c35d-4085-be9a-977b05bc1add', 'cb596fba-b856-44ef-a6a9-c95247f6350e', 'bc1ee52f-542b-4b07-b3e5-eff9f75ec449', 'a372d4b5-d4a8-4121-a3b0-48f6f2c8323b', '75a8002e-2a31-450f-957a-184afbedcc62', '071825c5-2aa5-4149-a876-453427ae3180', 'a860df0a-6e88-4363-a672-353f5a5a7567', 'eb2beee8-ad9d-4e88-878a-1d985f32a279', '1a1e324e-b876-431e-8138-971269dad2e5', '3fe08ff2-2661-4e20-8e5e-d3a744a80d46', 'ca5aa756-12ed-48c2-8288-640507ab26b9', 'fa919dab-92bd-490e-97fa-6cf247a2a5ea', 'c8b57ffd-7351-4da9-8d76-61ea69da0691', 'b96bc9a5-25b1-4593-bc87-5007c00c718c', '5aad5303-0e6a-4255-b8de-eb3efb9fcb76', '567bfef1-b7a7-41fc-a88f-16e12cd30ad5', '9285fe38-f1ca-45a0-bae5-6f9b04791fb1', 'c64d35a1-6163-4c8c-b501-6424cfef6187', '26ec8072-d4ef-4458-8740-7d32b7a0bb35', 'd2701737-6ec7-465c-9cbe-02d0d85a51b9', '93dbb051-6e42-44be-8f7a-4b1bbd64893f', '7d890c20-eb39-4e0c-9fe0-1e5586783100', 'de1fc977-7bbe-462e-9363-92bdcfb32358', '3095a6c1-1c23-4184-941d-8fbf66c97fde', '810a6c29-5b4c-42a6-bf64-8c7030221e19', '036c9626-29b6-4170-a882-1cbcb117731a', 'd5656b31-c17f-47c9-8fb9-6083fb5ed12b', 'aaf74408-f3e8-47f9-a6e5-86ccf0dc60dc', '9b488109-3c46-4d51-a183-9354e23c568e', '531a4313-6e44-41e1-adcd-d5d94894de0b', '39991453-444e-4682-930c-8d5329fa8615', '098e2202-a277-4027-9f2f-a852ef859328', 'b5521f9a-7bbe-435e-97d2-ee78f7e1cc05', 'b868a0e4-0990-44f0-924e-d066b74a2a09', '556bb31e-2b78-4bcf-83e8-1c72a7a4b3ce', 'ce70b8b8-9b2c-4837-9706-ef36d68d9759', '3d3b4ec8-6d8a-45cb-bee0-dd9b555ffb7f', 'e291aeed-988f-4fb2-8d32-4fce4f201254', '032ed341-e7c8-41b4-99e6-92c15cd7905b', 'fe2cd6a8-7993-48f6-a562-c12953c39033', 'a6ded8d0-56fb-4cf2-b75c-8ffbf0dfe61b', 'ecb7de60-a22a-40fa-962a-3c868058ae43', '29d8131f-dc8a-4792-acb1-04053dbca4a5', '8717e7f2-bfb6-407f-b929-63743b948b9e', 'f57f4a0c-71ab-4903-a02b-41409f637371', '8268ed95-1be2-4940-823e-38899732816f', 'c085f922-0f23-4134-a208-9237483e2eb8', '9c2a2b85-0e4c-4c2b-b6f4-a56a3ab77f77', 'bd584c13-2f94-426d-8d78-a2041b63c5ba', 'd800c30d-6ceb-47d6-90a8-1a37d6026831', 'a6131d27-9eee-4e0d-a94d-7635d6e0fb6e', '79817f66-b564-46f2-bb00-11737fd703f0', '49dda9a7-a2c3-40fe-8868-8acef7e0ae55', 'e0dc01a3-9776-4424-b8ae-714877c9e492', 'a7892da3-9608-458d-882d-74646da4f91c', '01980b85-6586-4888-867f-d7c916011611', 'c07cbbdc-6bb8-45e5-89e3-cbeb210bb845', '10b679eb-6f86-4732-bcde-98cbe311369a', '4e9f167b-d6b5-46cd-8e23-c4cf7ae783b9', '594cb430-38dd-4ae5-a092-fa88a626cb0f', '0c038020-ff02-4e20-a45a-8f0fb71d5074', '561a5422-addf-48a2-9d90-3c33c846b35a', 'a3216a74-639d-47a7-92dc-934c0a0363ba', '0711cdca-4882-4cf7-acd9-fc1603d785ac', 'bb06a640-f0e8-478e-9f70-5ee8c0907db7', 'e9abda22-8ff2-4f28-b118-55c54f290bed', 'a2aa5af9-abac-4b0c-bfd4-38a89126f3e1', '35ee2f4d-0d64-4c30-b4f3-f9105d30a9dd', 'd12234fe-8410-4222-9e6e-147a7ecec001', '14187d1c-0b26-4492-9477-2d362542245b', 'c6923be3-1126-4b5f-951e-d914905db115', '782c2551-44de-41e9-8f40-c31f94082e2e', '52904995-b855-41c8-9274-f23a9cb896a5', 'f1a6590f-ad38-49f9-bf4d-31291f6d4283', '23af57c2-0070-4257-a4d5-6bb57b05c841', 'db15551b-a870-44fb-90a0-4a0575b86cee', '1c89765b-8a62-4c92-9870-a0394a93e9c2', '91fb19d9-91e8-40b6-95ed-a9b7a2366df2', '064280e0-b075-40d4-9e69-8012c70fab4c', '37088b8f-98b3-47eb-ba48-d80dd9e3c362', '6810e08f-4f4c-4ca9-9a71-222c02d22ceb', '9dd77e3a-e0d7-4856-90ec-2e34e98d7b3a', '6dff7d69-2303-4fd2-aa9e-2fdf6e9b8d21', 'f8f801bd-c142-43e3-96e8-a096145113bb', 'e1bd5f2e-89e4-47a1-8a13-cca46c2880d0', '527d8e5d-fbbb-4bb6-ab72-31e5772a4406', '28ab2740-e4ac-4f87-997b-46ad0ad9cfc3', 'd70cf499-182d-4999-b412-ab6a02bb9182', '92dda597-ce16-4ac9-b819-b71904ed514b', '4db3ccbc-0969-442c-94ac-2b174a62dac5', '1ae673cb-4e4b-4817-9d0b-9cc520921368', '5d636c25-5f14-44ce-94f0-f7ea8c442983', '440dd158-bf0b-4b3f-867e-ab951ef949a2', '08f1b2d9-1494-4c1d-a63c-e2c471353927', '3addbf28-c26a-4628-94ec-9ffe8fb52aef', '6e65d039-870f-4a79-a71b-2784deb42315', '1e0f233a-c66b-4ab2-b07d-83ef5a331a2d', '0b9a36de-8081-4e11-9e28-6843c1a5637f', 'c56f2d39-14c6-4783-94d1-611edd5dd866', '2cb33183-16e0-4647-809a-b35431103629', '4158fff2-e018-4d78-969e-84bf2f96fd85', '6677b917-9e31-42e3-b328-487e0296d7b3', '7e8a24bb-3815-46b9-bccb-f97713303452', 'cb16ff90-d23d-46f6-a364-39d411c316a5', '336853d4-f6d6-4593-8984-1f3e78faa0ca', '606c67c7-bbc7-40ea-994d-778c9f79a005', 'b2cd3c93-e895-4e95-87f6-04480aba881b', 'a81d3438-d753-467b-b7be-4a2b13322bef', '6d4746c1-3070-47f1-959a-0d05dd1b5b92', 'acdff724-b2a4-4ef7-afb3-8004a56d87fb', 'abad7444-727c-4081-bbea-ef5a14b4cefd', 'c90d947d-c585-47f4-9753-962c728e43e2', '0f848df5-087a-4e0f-a323-41888a9df726', '36d16b61-ee00-4269-be5a-b85e24c94f78', 'ea3724b7-3812-4395-8a5d-2253967bfc78', '8adbe03e-a5f2-4807-8ee3-5e88d78b5e95', '3e27f097-4b5c-47a5-9eb0-fb8e245b00c7', 'cfe8d9a1-7040-45ec-ab6d-1fa0c1ddc6bf', '0a432c82-5f0f-4533-87e5-4fadde54ee78', '0fcff3d1-d2b3-42a8-a2ed-130e0d14c79f', 'b4825c79-f13f-4744-9419-b7e510c03c4f', '3884e2c7-70ff-4ccd-aa1b-b6a8ac99eae4', 'cf007aa9-df74-412c-af6a-a3a0b160d13f', 'da43f391-4e89-4c8a-9747-0c2fca7fbd6a', '17aaf9bc-95e5-4939-b6f4-88a2fb7be20c', '3267614d-47fd-4c64-99eb-0db3d62c2791', '1a3c1fe6-f2ce-46fd-9919-d50c444fbea2', 'c8f3c9ad-a9f1-49de-9c35-dbf0c07b6367', '56e153c7-53ae-4d5e-b440-8fb15c08edd7', '2c6af59f-aca2-42a8-bee0-d6d960956ac8', '229811b5-c836-4666-84c0-708ba918cef5', '6b2481bf-e88d-4333-9bea-b651d94a0372', '0a2576fb-d97d-4a4e-8a56-0110643725a3', '4fcca0bb-08e7-406d-90d9-f0c7e60f6522', 'd0f12f12-5328-4882-8074-fb17a77c69c3', 'a73632d3-9e0e-4cc3-8849-18a6609f398d', '7d609e6c-06e8-47b1-bae8-da8f472374c2', '5775588a-dca5-46d0-8b5d-cdb70af29d2e', 'f48e4c66-00ff-48ab-a889-aff90b3a345a', 'f7f23ffc-0872-4381-9480-cc7401f30e4e', '4abad9c0-c479-43f8-8adf-f0f8673e262c', '70855d72-db47-4fbc-b736-bbb86703d9bd', '5eaf783c-4e03-435b-84d1-fa0ce0e97027', 'bcab6d70-5616-4313-8940-f35639de6f9e', '0e5a76b4-3db8-4212-9ca6-4b88c12ac397', 'f44a0d1b-c2c9-4142-a917-daaf6b025740', 'da6dacd9-ec0f-4d1d-b7b7-834c3f730c0c', 'f8c5a1b3-b3f4-4ca9-9bd9-8b4fd95739f9', '39b7d1ed-8475-4d2d-a590-808a0869649b', 'fed1a2b8-0616-4610-8f33-baf075babbdd', '7b9188dd-b46c-4ae5-b4fb-1dab55af2934']\n"
     ]
    },
    {
     "data": {
      "text/plain": [
       "compound_name    0\n",
       "SMILES           0\n",
       "dtype: int64"
      ]
     },
     "execution_count": 151,
     "metadata": {},
     "output_type": "execute_result"
    }
   ],
   "source": [
    "# want to assign unique ids to each compound \n",
    "\n",
    "# uniq_ids = [str(uuid.uuid4()) for i in range(merge_meng_df.isna().sum().iloc[0])]\n",
    "# unique_id_series = pd.Series(uniq_ids, index=merge_meng_df.index[merge_meng_df['compound_name'].isna()])\n",
    "# print(uniq_ids)\n",
    "\n",
    "# merge_meng_df['compound_name'] = merge_meng_df['compound_name'].combine_first(unique_id_series)\n",
    "    \n",
    "# merge_meng_df.isna().sum()"
   ]
  },
  {
   "cell_type": "code",
   "execution_count": 192,
   "metadata": {},
   "outputs": [],
   "source": [
    "# write to new csv \n",
    "merge_meng_df.to_csv('meng_unique.csv')\n"
   ]
  },
  {
   "cell_type": "code",
   "execution_count": 82,
   "metadata": {},
   "outputs": [],
   "source": [
    "# POC\n",
    "df1 = pd.DataFrame({'ID': ['A', 'B', 'C'], 'Value': [1, 2, 3]})\n",
    "df2 = pd.DataFrame({'ID': ['A', 'D', 'E', 'F'], 'Value': [1, 4, 5, 6]})"
   ]
  },
  {
   "cell_type": "code",
   "execution_count": 83,
   "metadata": {},
   "outputs": [
    {
     "data": {
      "text/plain": [
       "{2, 3}"
      ]
     },
     "execution_count": 83,
     "metadata": {},
     "output_type": "execute_result"
    }
   ],
   "source": [
    "\n",
    "set1 = set(df1['Value'])\n",
    "set2 = set(df2['Value'])\n",
    "\n",
    "diff = set1-set2\n",
    "# only gives things in set 1 that are not in set2\n",
    "diff\n"
   ]
  },
  {
   "cell_type": "code",
   "execution_count": 84,
   "metadata": {},
   "outputs": [
    {
     "data": {
      "text/plain": [
       "{4, 5, 6}"
      ]
     },
     "execution_count": 84,
     "metadata": {},
     "output_type": "execute_result"
    }
   ],
   "source": [
    "diff2 = set2-set1\n",
    "# onyly gives things in set 2 that are not in set1\n",
    "diff2"
   ]
  },
  {
   "cell_type": "code",
   "execution_count": 85,
   "metadata": {},
   "outputs": [
    {
     "data": {
      "text/plain": [
       "{1}"
      ]
     },
     "execution_count": 85,
     "metadata": {},
     "output_type": "execute_result"
    }
   ],
   "source": [
    "intersect = set1.intersection(set2)\n",
    "# only gives the ones that are same between the two \n",
    "intersect"
   ]
  },
  {
   "cell_type": "code",
   "execution_count": 86,
   "metadata": {},
   "outputs": [
    {
     "data": {
      "text/html": [
       "<div>\n",
       "<style scoped>\n",
       "    .dataframe tbody tr th:only-of-type {\n",
       "        vertical-align: middle;\n",
       "    }\n",
       "\n",
       "    .dataframe tbody tr th {\n",
       "        vertical-align: top;\n",
       "    }\n",
       "\n",
       "    .dataframe thead th {\n",
       "        text-align: right;\n",
       "    }\n",
       "</style>\n",
       "<table border=\"1\" class=\"dataframe\">\n",
       "  <thead>\n",
       "    <tr style=\"text-align: right;\">\n",
       "      <th></th>\n",
       "      <th>ID</th>\n",
       "      <th>Value</th>\n",
       "    </tr>\n",
       "  </thead>\n",
       "  <tbody>\n",
       "    <tr>\n",
       "      <th>1</th>\n",
       "      <td>B</td>\n",
       "      <td>2</td>\n",
       "    </tr>\n",
       "    <tr>\n",
       "      <th>2</th>\n",
       "      <td>C</td>\n",
       "      <td>3</td>\n",
       "    </tr>\n",
       "  </tbody>\n",
       "</table>\n",
       "</div>"
      ],
      "text/plain": [
       "  ID  Value\n",
       "1  B      2\n",
       "2  C      3"
      ]
     },
     "execution_count": 86,
     "metadata": {},
     "output_type": "execute_result"
    }
   ],
   "source": [
    "# we want rows of intersect, diff, are diff2 in final df\n",
    "diff_df1 = df1[df1['Value'].isin(diff)]\n",
    "diff_df1"
   ]
  },
  {
   "cell_type": "code",
   "execution_count": 87,
   "metadata": {},
   "outputs": [
    {
     "data": {
      "text/html": [
       "<div>\n",
       "<style scoped>\n",
       "    .dataframe tbody tr th:only-of-type {\n",
       "        vertical-align: middle;\n",
       "    }\n",
       "\n",
       "    .dataframe tbody tr th {\n",
       "        vertical-align: top;\n",
       "    }\n",
       "\n",
       "    .dataframe thead th {\n",
       "        text-align: right;\n",
       "    }\n",
       "</style>\n",
       "<table border=\"1\" class=\"dataframe\">\n",
       "  <thead>\n",
       "    <tr style=\"text-align: right;\">\n",
       "      <th></th>\n",
       "      <th>ID</th>\n",
       "      <th>Value</th>\n",
       "    </tr>\n",
       "  </thead>\n",
       "  <tbody>\n",
       "    <tr>\n",
       "      <th>1</th>\n",
       "      <td>D</td>\n",
       "      <td>4</td>\n",
       "    </tr>\n",
       "    <tr>\n",
       "      <th>2</th>\n",
       "      <td>E</td>\n",
       "      <td>5</td>\n",
       "    </tr>\n",
       "    <tr>\n",
       "      <th>3</th>\n",
       "      <td>F</td>\n",
       "      <td>6</td>\n",
       "    </tr>\n",
       "  </tbody>\n",
       "</table>\n",
       "</div>"
      ],
      "text/plain": [
       "  ID  Value\n",
       "1  D      4\n",
       "2  E      5\n",
       "3  F      6"
      ]
     },
     "execution_count": 87,
     "metadata": {},
     "output_type": "execute_result"
    }
   ],
   "source": [
    "diff_df2 = df2[df2['Value'].isin(diff2)]\n",
    "diff_df2"
   ]
  },
  {
   "cell_type": "code",
   "execution_count": 88,
   "metadata": {},
   "outputs": [
    {
     "data": {
      "text/html": [
       "<div>\n",
       "<style scoped>\n",
       "    .dataframe tbody tr th:only-of-type {\n",
       "        vertical-align: middle;\n",
       "    }\n",
       "\n",
       "    .dataframe tbody tr th {\n",
       "        vertical-align: top;\n",
       "    }\n",
       "\n",
       "    .dataframe thead th {\n",
       "        text-align: right;\n",
       "    }\n",
       "</style>\n",
       "<table border=\"1\" class=\"dataframe\">\n",
       "  <thead>\n",
       "    <tr style=\"text-align: right;\">\n",
       "      <th></th>\n",
       "      <th>ID</th>\n",
       "      <th>Value</th>\n",
       "    </tr>\n",
       "  </thead>\n",
       "  <tbody>\n",
       "    <tr>\n",
       "      <th>0</th>\n",
       "      <td>A</td>\n",
       "      <td>1</td>\n",
       "    </tr>\n",
       "  </tbody>\n",
       "</table>\n",
       "</div>"
      ],
      "text/plain": [
       "  ID  Value\n",
       "0  A      1"
      ]
     },
     "execution_count": 88,
     "metadata": {},
     "output_type": "execute_result"
    }
   ],
   "source": [
    "intersect_df = df1[df1['Value'].isin(intersect)]\n",
    "intersect_df"
   ]
  },
  {
   "cell_type": "code",
   "execution_count": 89,
   "metadata": {},
   "outputs": [
    {
     "data": {
      "text/html": [
       "<div>\n",
       "<style scoped>\n",
       "    .dataframe tbody tr th:only-of-type {\n",
       "        vertical-align: middle;\n",
       "    }\n",
       "\n",
       "    .dataframe tbody tr th {\n",
       "        vertical-align: top;\n",
       "    }\n",
       "\n",
       "    .dataframe thead th {\n",
       "        text-align: right;\n",
       "    }\n",
       "</style>\n",
       "<table border=\"1\" class=\"dataframe\">\n",
       "  <thead>\n",
       "    <tr style=\"text-align: right;\">\n",
       "      <th></th>\n",
       "      <th>ID</th>\n",
       "      <th>Value</th>\n",
       "    </tr>\n",
       "  </thead>\n",
       "  <tbody>\n",
       "    <tr>\n",
       "      <th>0</th>\n",
       "      <td>B</td>\n",
       "      <td>2</td>\n",
       "    </tr>\n",
       "    <tr>\n",
       "      <th>1</th>\n",
       "      <td>C</td>\n",
       "      <td>3</td>\n",
       "    </tr>\n",
       "    <tr>\n",
       "      <th>2</th>\n",
       "      <td>D</td>\n",
       "      <td>4</td>\n",
       "    </tr>\n",
       "    <tr>\n",
       "      <th>3</th>\n",
       "      <td>E</td>\n",
       "      <td>5</td>\n",
       "    </tr>\n",
       "    <tr>\n",
       "      <th>4</th>\n",
       "      <td>F</td>\n",
       "      <td>6</td>\n",
       "    </tr>\n",
       "    <tr>\n",
       "      <th>5</th>\n",
       "      <td>A</td>\n",
       "      <td>1</td>\n",
       "    </tr>\n",
       "  </tbody>\n",
       "</table>\n",
       "</div>"
      ],
      "text/plain": [
       "  ID  Value\n",
       "0  B      2\n",
       "1  C      3\n",
       "2  D      4\n",
       "3  E      5\n",
       "4  F      6\n",
       "5  A      1"
      ]
     },
     "execution_count": 89,
     "metadata": {},
     "output_type": "execute_result"
    }
   ],
   "source": [
    "# create combined df \n",
    "result_df = pd.concat([diff_df1, diff_df2, intersect_df],ignore_index=True)\n",
    "result_df"
   ]
  }
 ],
 "metadata": {
  "kernelspec": {
   "display_name": "base",
   "language": "python",
   "name": "python3"
  },
  "language_info": {
   "codemirror_mode": {
    "name": "ipython",
    "version": 3
   },
   "file_extension": ".py",
   "mimetype": "text/x-python",
   "name": "python",
   "nbconvert_exporter": "python",
   "pygments_lexer": "ipython3",
   "version": "3.11.5"
  },
  "orig_nbformat": 4
 },
 "nbformat": 4,
 "nbformat_minor": 2
}
